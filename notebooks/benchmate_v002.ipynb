{
 "cells": [
  {
   "cell_type": "code",
   "execution_count": 31,
   "id": "37d9ac8c",
   "metadata": {},
   "outputs": [],
   "source": [
    "from ollama import Client\n",
    "from langchain_core.prompts import PromptTemplate\n",
    "import json\n",
    "from langchain_ollama.llms import OllamaLLM\n",
    "from langchain.chains.llm import LLMChain\n",
    "from langchain_core.runnables import RunnablePassthrough, RunnableLambda, RunnableParallel"
   ]
  },
  {
   "cell_type": "code",
   "execution_count": 2,
   "id": "93d8b0d6",
   "metadata": {},
   "outputs": [
    {
     "name": "stderr",
     "output_type": "stream",
     "text": [
      "C:\\Users\\ssrim\\AppData\\Local\\Temp\\ipykernel_924\\456135668.py:17: LangChainDeprecationWarning: The class `LLMChain` was deprecated in LangChain 0.1.17 and will be removed in 1.0. Use :meth:`~RunnableSequence, e.g., `prompt | llm`` instead.\n",
      "  subtopic_chain = LLMChain(\n"
     ]
    }
   ],
   "source": [
    "# Subtopics chain\n",
    "\n",
    "subtopics_template = PromptTemplate.from_template(\n",
    "    \"\"\"Generate a list of {number_of_subtopics} subheadings for a highschool essay on {topic}.\n",
    "    Order the subheadings such that they have a logical sequence.\n",
    "    Each subheading should be accompanied with a detailed discription on what the contents should be about.\n",
    "    Provide output in json format as follows:\n",
    "\n",
    "    {{'<heading1>':'<description1>',\n",
    "    '<heading2>':'<description2>',...}}\n",
    "    \n",
    "    Only return the json object without any additional text.\"\"\"\n",
    ")\n",
    "    \n",
    "model = OllamaLLM(model=\"llama3.2:latest\", run_local=True, format='json')\n",
    "\n",
    "subtopic_chain = LLMChain(\n",
    "    llm=model,\n",
    "    prompt=subtopics_template,\n",
    "    output_key=\"subtopics\",\n",
    ")"
   ]
  },
  {
   "cell_type": "code",
   "execution_count": 3,
   "id": "0f30cfa1",
   "metadata": {},
   "outputs": [],
   "source": [
    "# subtopic_chain.invoke(\n",
    "#     {\n",
    "#         \"topic\": \"History of the Internet\",\n",
    "#         \"number_of_subtopics\": 3\n",
    "#     }\n",
    "# )"
   ]
  },
  {
   "cell_type": "code",
   "execution_count": 33,
   "id": "eeca2333",
   "metadata": {},
   "outputs": [],
   "source": [
    "passthrough_chain = RunnableParallel().assign(\n",
    "    subtopic_headings = lambda x: list(json.loads(x['subtopics']).keys()),\n",
    "    subtopic_descriptions = lambda x: list(json.loads(x['subtopics']).values())\n",
    ")"
   ]
  },
  {
   "cell_type": "code",
   "execution_count": 5,
   "id": "36d94f2a",
   "metadata": {},
   "outputs": [],
   "source": [
    "# passthrough_chain.invoke(subtopic_chain.invoke(\n",
    "#     {\n",
    "#         \"topic\": \"History of the Internet\",\n",
    "#         \"number_of_subtopics\": 3\n",
    "#     }\n",
    "# ))"
   ]
  },
  {
   "cell_type": "code",
   "execution_count": 12,
   "id": "418dea04",
   "metadata": {},
   "outputs": [
    {
     "data": {
      "text/plain": [
       "{'topic': 'History of the Internet',\n",
       " 'number_of_subtopics': 3,\n",
       " 'subtopics': '{\"Pre-History of the Internet\": \"This section will explore the origins and early development of the internet, including the key players, technologies, and events that laid the foundation for the modern internet. Topics may include the ARPANET project, the development of TCP/IP, and the role of government funding in the internet\\'s early years.\", \\n\"Evolution and Expansion\": \"This section will discuss the rapid expansion and evolution of the internet from the 1980s to the present day, including the growth of the World Wide Web, the rise of commercial internet service providers, and major technological advancements such as dial-up, broadband, and mobile networks.\", \\n\"The Internet\\'s Impact on Society\": \"This section will examine the significant impact of the internet on modern society, including its effects on communication, commerce, education, and culture. Topics may include the rise of e-commerce, the growth of social media, and the role of the internet in shaping our global community.\"}',\n",
       " 'subtopic_headings': ['Pre-History of the Internet',\n",
       "  'Evolution and Expansion',\n",
       "  \"The Internet's Impact on Society\"],\n",
       " 'subtopic_descriptions': [\"This section will explore the origins and early development of the internet, including the key players, technologies, and events that laid the foundation for the modern internet. Topics may include the ARPANET project, the development of TCP/IP, and the role of government funding in the internet's early years.\",\n",
       "  'This section will discuss the rapid expansion and evolution of the internet from the 1980s to the present day, including the growth of the World Wide Web, the rise of commercial internet service providers, and major technological advancements such as dial-up, broadband, and mobile networks.',\n",
       "  'This section will examine the significant impact of the internet on modern society, including its effects on communication, commerce, education, and culture. Topics may include the rise of e-commerce, the growth of social media, and the role of the internet in shaping our global community.']}"
      ]
     },
     "execution_count": 12,
     "metadata": {},
     "output_type": "execute_result"
    }
   ],
   "source": [
    "sequence_chain = subtopic_chain | passthrough_chain\n",
    "result = sequence_chain.invoke(\n",
    "    {\n",
    "        \"topic\": \"History of the Internet\",\n",
    "        \"number_of_subtopics\": 3\n",
    "    }\n",
    ")\n",
    "result"
   ]
  },
  {
   "cell_type": "code",
   "execution_count": 27,
   "id": "3e6ac59c",
   "metadata": {},
   "outputs": [],
   "source": [
    "def get_search_query(description):\n",
    "    # print(description)\n",
    "    search_query_prompt = PromptTemplate.from_template(\n",
    "        \"\"\"Generate a search query for the following description: {description}.\n",
    "        The search query should be concise and relevant to the topic.\n",
    "        Return only the search query without any additional text.\"\"\"\n",
    "    )\n",
    "    model = OllamaLLM(model=\"llama3.2:latest\", run_local=True)\n",
    "    search_query_chain = LLMChain(\n",
    "        llm=model,\n",
    "        prompt=search_query_prompt,\n",
    "        output_key=\"search_query\",\n",
    "    )\n",
    "    return search_query_chain.invoke({\"description\": description})[\"search_query\"]"
   ]
  },
  {
   "cell_type": "code",
   "execution_count": 28,
   "id": "32bd2a47",
   "metadata": {},
   "outputs": [],
   "source": [
    "search_query_chain = RunnablePassthrough.assign(\n",
    "    search_queries=lambda x: RunnableLambda(get_search_query).batch(x['subtopic_descriptions'])\n",
    ")"
   ]
  },
  {
   "cell_type": "code",
   "execution_count": null,
   "id": "3fc82f6a",
   "metadata": {},
   "outputs": [
    {
     "data": {
      "text/plain": [
       "{'topic': 'History of the Internet',\n",
       " 'number_of_subtopics': 3,\n",
       " 'subtopics': '{\"Early Beginnings of the Internet\":\"This section will cover the early history of the internet, including the development of the ARPANET network in the 1960s and the creation of the first email by Ray Tomlinson in 1971.\", \\n\"Expansion and Democratization\": \"The expansion of the internet to the general public began with the widespread adoption of dial-up internet in the 1990s, facilitated by companies like America Online (AOL) and CompuServe. This section will explore how the internet became more accessible to people from all walks of life.\", \\n\"The Modern Internet: Social Media, Cloud Computing, and Beyond\": \"This final section will delve into the modern era of the internet, discussing the rise of social media platforms like Facebook and Twitter, the growth of cloud computing, and other emerging technologies that have transformed the way we communicate, work, and live.\"}',\n",
       " 'subtopic_headings': ['Early Beginnings of the Internet',\n",
       "  'Expansion and Democratization',\n",
       "  'The Modern Internet: Social Media, Cloud Computing, and Beyond'],\n",
       " 'subtopic_descriptions': ['This section will cover the early history of the internet, including the development of the ARPANET network in the 1960s and the creation of the first email by Ray Tomlinson in 1971.',\n",
       "  'The expansion of the internet to the general public began with the widespread adoption of dial-up internet in the 1990s, facilitated by companies like America Online (AOL) and CompuServe. This section will explore how the internet became more accessible to people from all walks of life.',\n",
       "  'This final section will delve into the modern era of the internet, discussing the rise of social media platforms like Facebook and Twitter, the growth of cloud computing, and other emerging technologies that have transformed the way we communicate, work, and live.'],\n",
       " 'search_queries': ['\"early internet history ARPANET email Ray Tomlinson\"',\n",
       "  '\"Internet adoption 1990s dial-up access\"',\n",
       "  '\"modern internet trends: social media cloud computing and emerging technologies\"']}"
      ]
     },
     "execution_count": 29,
     "metadata": {},
     "output_type": "execute_result"
    }
   ],
   "source": [
    "sequence_chain = subtopic_chain | passthrough_chain | search_query_chain\n",
    "result = sequence_chain.invoke(\n",
    "    {\n",
    "        \"topic\": \"History of the Internet\",\n",
    "        \"number_of_subtopics\": 3\n",
    "    }\n",
    ")\n",
    "result\n"
   ]
  },
  {
   "cell_type": "code",
   "execution_count": null,
   "id": "40b42b0e",
   "metadata": {},
   "outputs": [],
   "source": []
  }
 ],
 "metadata": {
  "kernelspec": {
   "display_name": "llms2",
   "language": "python",
   "name": "python3"
  },
  "language_info": {
   "codemirror_mode": {
    "name": "ipython",
    "version": 3
   },
   "file_extension": ".py",
   "mimetype": "text/x-python",
   "name": "python",
   "nbconvert_exporter": "python",
   "pygments_lexer": "ipython3",
   "version": "3.11.11"
  }
 },
 "nbformat": 4,
 "nbformat_minor": 5
}
