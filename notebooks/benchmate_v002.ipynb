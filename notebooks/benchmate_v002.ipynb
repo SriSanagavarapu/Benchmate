{
 "cells": [
  {
   "cell_type": "code",
   "execution_count": 6,
   "id": "37d9ac8c",
   "metadata": {},
   "outputs": [],
   "source": [
    "from ollama import Client\n",
    "from langchain_core.prompts import PromptTemplate\n",
    "import json\n",
    "from langchain_ollama.llms import OllamaLLM\n",
    "from langchain.chains.llm import LLMChain\n",
    "from langchain_core.runnables import RunnablePassthrough"
   ]
  },
  {
   "cell_type": "code",
   "execution_count": 11,
   "id": "93d8b0d6",
   "metadata": {},
   "outputs": [],
   "source": [
    "# Subtopics chain\n",
    "\n",
    "subtopics_template = PromptTemplate.from_template(\n",
    "    \"\"\"Generate a list of {number_of_subtopics} subheadings for a highschool essay on {topic}.\n",
    "    Order the subheadings such that they have a logical sequence.\n",
    "    Each subheading should be accompanied with a detailed discription on what the contents should be about.\n",
    "    Provide output in json format as follows:\n",
    "\n",
    "    {{'<heading1>':'<description1>',\n",
    "    '<heading2>':'<description2>',...}}\n",
    "    \n",
    "    Only return the json object without any additional text.\"\"\"\n",
    ")\n",
    "    \n",
    "model = OllamaLLM(model=\"llama3.2:latest\", run_local=True, format='json')\n",
    "\n",
    "subtopic_chain = LLMChain(\n",
    "    llm=model,\n",
    "    prompt=subtopics_template,\n",
    "    output_key=\"subtopics\",\n",
    ")"
   ]
  },
  {
   "cell_type": "code",
   "execution_count": 17,
   "id": "0f30cfa1",
   "metadata": {},
   "outputs": [],
   "source": [
    "# subtopic_chain.invoke(\n",
    "#     {\n",
    "#         \"topic\": \"History of the Internet\",\n",
    "#         \"number_of_subtopics\": 3\n",
    "#     }\n",
    "# )"
   ]
  },
  {
   "cell_type": "code",
   "execution_count": 21,
   "id": "eeca2333",
   "metadata": {},
   "outputs": [],
   "source": [
    "passthrough_chain = RunnablePassthrough.assign(\n",
    "    subtopic_headings = lambda x: list(json.loads(x['subtopics']).keys()),\n",
    "    subtopic_descriptions = lambda x: list(json.loads(x['subtopics']).values())\n",
    ")"
   ]
  },
  {
   "cell_type": "code",
   "execution_count": 23,
   "id": "36d94f2a",
   "metadata": {},
   "outputs": [],
   "source": [
    "# passthrough_chain.invoke(subtopic_chain.invoke(\n",
    "#     {\n",
    "#         \"topic\": \"History of the Internet\",\n",
    "#         \"number_of_subtopics\": 3\n",
    "#     }\n",
    "# ))"
   ]
  },
  {
   "cell_type": "code",
   "execution_count": 24,
   "id": "418dea04",
   "metadata": {},
   "outputs": [
    {
     "data": {
      "text/plain": [
       "{'topic': 'History of the Internet',\n",
       " 'number_of_subtopics': 3,\n",
       " 'subtopics': '{\"Prehistory of the Internet\": \"This section will explore the early beginnings of the internet, including the development of the first network, ARPANET, and how it laid the foundation for the modern internet. It will also discuss other key players and events that contributed to the growth of the internet during this period.\"}',\n",
       " 'subtopic_headings': ['Prehistory of the Internet'],\n",
       " 'subtopic_descriptions': ['This section will explore the early beginnings of the internet, including the development of the first network, ARPANET, and how it laid the foundation for the modern internet. It will also discuss other key players and events that contributed to the growth of the internet during this period.']}"
      ]
     },
     "execution_count": 24,
     "metadata": {},
     "output_type": "execute_result"
    }
   ],
   "source": [
    "sequence_chain = subtopic_chain | passthrough_chain\n",
    "result = sequence_chain.invoke(\n",
    "    {\n",
    "        \"topic\": \"History of the Internet\",\n",
    "        \"number_of_subtopics\": 3\n",
    "    }\n",
    ")\n",
    "result"
   ]
  },
  {
   "cell_type": "code",
   "execution_count": null,
   "id": "3e6ac59c",
   "metadata": {},
   "outputs": [],
   "source": []
  }
 ],
 "metadata": {
  "kernelspec": {
   "display_name": "llms2",
   "language": "python",
   "name": "python3"
  },
  "language_info": {
   "codemirror_mode": {
    "name": "ipython",
    "version": 3
   },
   "file_extension": ".py",
   "mimetype": "text/x-python",
   "name": "python",
   "nbconvert_exporter": "python",
   "pygments_lexer": "ipython3",
   "version": "3.11.11"
  }
 },
 "nbformat": 4,
 "nbformat_minor": 5
}
