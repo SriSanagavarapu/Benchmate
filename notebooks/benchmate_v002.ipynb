{
 "cells": [
  {
   "cell_type": "code",
   "execution_count": 1,
   "id": "37d9ac8c",
   "metadata": {},
   "outputs": [],
   "source": [
    "from ollama import Client\n",
    "from langchain_core.prompts import PromptTemplate\n",
    "import json\n",
    "from langchain_ollama.llms import OllamaLLM\n",
    "from langchain.chains.llm import LLMChain\n",
    "from langchain_core.runnables import RunnablePassthrough, RunnableLambda, RunnableConfig\n",
    "from langchain_core.output_parsers import StrOutputParser\n",
    "from duckduckgo_search import DDGS\n",
    "from bs4 import BeautifulSoup\n",
    "import requests\n",
    "import time\n",
    "import random"
   ]
  },
  {
   "cell_type": "code",
   "execution_count": 2,
   "id": "93d8b0d6",
   "metadata": {},
   "outputs": [
    {
     "name": "stderr",
     "output_type": "stream",
     "text": [
      "C:\\Users\\ssrim\\AppData\\Local\\Temp\\ipykernel_17420\\1310164519.py:17: LangChainDeprecationWarning: The class `LLMChain` was deprecated in LangChain 0.1.17 and will be removed in 1.0. Use :meth:`~RunnableSequence, e.g., `prompt | llm`` instead.\n",
      "  subtopic_chain = LLMChain(\n"
     ]
    }
   ],
   "source": [
    "# Subtopics chain\n",
    "\n",
    "subtopics_template = PromptTemplate.from_template(\n",
    "    \"\"\"Generate a list of {number_of_subtopics} subheadings for a highschool essay on {topic}.\n",
    "    Order the subheadings such that they have a logical sequence.\n",
    "    Each subheading should be accompanied with a detailed discription on what the contents should be about.\n",
    "    Provide output in json format as follows:\n",
    "\n",
    "    {{'<heading1>':'<description1>',\n",
    "    '<heading2>':'<description2>',...}}\n",
    "    \n",
    "    Only return the json object without any additional text.\"\"\"\n",
    ")\n",
    "    \n",
    "model = OllamaLLM(model=\"llama3.2:latest\", run_local=True, format='json')\n",
    "\n",
    "subtopic_chain = LLMChain(\n",
    "    llm=model,\n",
    "    prompt=subtopics_template,\n",
    "    output_key=\"subtopics\",\n",
    "    output_parser= StrOutputParser()\n",
    ")"
   ]
  },
  {
   "cell_type": "code",
   "execution_count": 3,
   "id": "0f30cfa1",
   "metadata": {},
   "outputs": [],
   "source": [
    "# subtopic_chain.invoke(\n",
    "#     {\n",
    "#         \"topic\": \"History of the Internet\",\n",
    "#         \"number_of_subtopics\": 3\n",
    "#     }\n",
    "# )"
   ]
  },
  {
   "cell_type": "code",
   "execution_count": 4,
   "id": "eeca2333",
   "metadata": {},
   "outputs": [],
   "source": [
    "passthrough_chain = RunnablePassthrough().assign(\n",
    "    subtopic_headings = lambda x: list(json.loads(x['subtopics']).keys()),\n",
    "    subtopic_descriptions = lambda x: list(json.loads(x['subtopics']).values())\n",
    ")"
   ]
  },
  {
   "cell_type": "code",
   "execution_count": 5,
   "id": "36d94f2a",
   "metadata": {},
   "outputs": [],
   "source": [
    "# passthrough_chain.invoke(subtopic_chain.invoke(\n",
    "#     {\n",
    "#         \"topic\": \"History of the Internet\",\n",
    "#         \"number_of_subtopics\": 3\n",
    "#     }\n",
    "# ))"
   ]
  },
  {
   "cell_type": "code",
   "execution_count": 6,
   "id": "cadafa7f",
   "metadata": {},
   "outputs": [],
   "source": [
    "# def print_output(output):\n",
    "#     print(output)\n",
    "#     return output"
   ]
  },
  {
   "cell_type": "code",
   "execution_count": 7,
   "id": "28a61e70",
   "metadata": {},
   "outputs": [],
   "source": [
    "# sequence_chain = subtopic_chain | RunnableLambda(print_output) | passthrough_chain\n",
    "# result = sequence_chain.invoke(\n",
    "#     {\n",
    "#         \"topic\": \"History of the Internet\",\n",
    "#         \"number_of_subtopics\": 3\n",
    "#     }\n",
    "# )\n",
    "# result"
   ]
  },
  {
   "cell_type": "code",
   "execution_count": 8,
   "id": "3e6ac59c",
   "metadata": {},
   "outputs": [],
   "source": [
    "def get_search_query(description):\n",
    "    # print(description)\n",
    "    search_query_prompt = PromptTemplate.from_template(\n",
    "        \"\"\"Generate a search query for the following description: {description}.\n",
    "        The search query should be concise and relevant to the topic.\n",
    "        Return only the search query without any additional text.\n",
    "        The search query should be in English and should not contain any special characters.\"\"\"\n",
    "    )\n",
    "    model = OllamaLLM(model=\"llama3.2:latest\", run_local=True)\n",
    "    search_query_chain = LLMChain(\n",
    "        llm=model,\n",
    "        prompt=search_query_prompt,\n",
    "        output_key=\"search_query\",\n",
    "        output_parser= StrOutputParser()\n",
    "    )\n",
    "    return search_query_chain.invoke({\"description\": description})[\"search_query\"].replace('\"', '').replace(\"'\", \"\")"
   ]
  },
  {
   "cell_type": "code",
   "execution_count": 9,
   "id": "32bd2a47",
   "metadata": {},
   "outputs": [],
   "source": [
    "search_query_chain = RunnablePassthrough.assign(\n",
    "    search_queries=lambda x: RunnableLambda(get_search_query).batch(x['subtopic_descriptions'])\n",
    ")"
   ]
  },
  {
   "cell_type": "code",
   "execution_count": 10,
   "id": "3fc82f6a",
   "metadata": {},
   "outputs": [],
   "source": [
    "# sequence_chain = subtopic_chain |  passthrough_chain | search_query_chain\n",
    "# result = sequence_chain.invoke({\"topic\": \"History of the Internet\", \"number_of_subtopics\": 3})\n",
    "# result\n"
   ]
  },
  {
   "cell_type": "code",
   "execution_count": 11,
   "id": "3bd76027",
   "metadata": {},
   "outputs": [],
   "source": [
    "# a0 = ['Foundations of the Internet',\n",
    "#   'Expansion and Growth',\n",
    "#   \"The Internet's Impact on Society\"]\n",
    "\n",
    "# a1 = ['ARPANET history packet switching Vint Cerf Bob Kahn internet development',\n",
    "#   'history of the internet from its origins to modern day development',\n",
    "#   'Effects of the internet on modern society and its impact on communication, e-commerce, education, culture, cybercrime, disinformation, and online inequality.']\n",
    "\n",
    "# a2 = ['This section will explore the origins and development of the internet, including the ARPANET project, its creators, and early innovations such as packet switching. It should also discuss the role of key figures like Vint Cerf and Bob Kahn in shaping the modern internet.',\n",
    "#   \"In this section, we'll examine how the internet expanded beyond its military roots to become a global network, driven by technological advancements, economic factors, and social movements. Topics may include the widespread adoption of personal computers, dial-up connections, and the emergence of the World Wide Web.\",\n",
    "#   \"This final section will delve into the internet's profound effects on modern society, including its role in shaping global communication, e-commerce, education, and culture. We'll also discuss potential risks, challenges, and controversies surrounding the internet's growth, such as cybercrime, disinformation, and online inequality.\"]\n",
    "\n",
    "# a3 = zip(a0, a1, a2)\n",
    "# list(a3)[0][0]"
   ]
  },
  {
   "cell_type": "code",
   "execution_count": 21,
   "id": "9bdb8f97",
   "metadata": {},
   "outputs": [],
   "source": [
    "def search_and_summarize(search_item):\n",
    "    # print(search_item)\n",
    "    query = search_item[0]\n",
    "    description = search_item[1]\n",
    "    time.sleep(40)  # To avoid hitting rate limits\n",
    "    links = DDGS().text(query, max_results=5)\n",
    "    content = \"\"\n",
    "    for link in links:\n",
    "        try:\n",
    "            search = requests.get(link['href']).text\n",
    "            search = BeautifulSoup(search, 'html.parser')\n",
    "            search = search.get_text(separator=\"\\n\", strip=True)\n",
    "            content += search\n",
    "            content += \"\\n\\n\"\n",
    "        except Exception as e:\n",
    "            print(f\"Error fetching {link['href']}: {e}\")\n",
    "    \n",
    "    search_summary_prompt = PromptTemplate.from_template(\n",
    "        \"\"\"Obtain the information described in the description from the content.\n",
    "        Use only what is find in the content.\n",
    "        Do not add anything in addition.\n",
    "        Summarize the most useful or interesting information for a highschool report.\n",
    "        Description: {description}\n",
    "        Content: {content}\"\"\")\n",
    "    \n",
    "    model = OllamaLLM(model=\"llama3.2:latest\", run_local=True)\n",
    "\n",
    "    search_summary_chain = search_summary_prompt | model | StrOutputParser()\n",
    "    return search_summary_chain.invoke({\n",
    "        \"description\": description,\n",
    "        \"content\": content\n",
    "    })"
   ]
  },
  {
   "cell_type": "code",
   "execution_count": 13,
   "id": "df409501",
   "metadata": {},
   "outputs": [],
   "source": [
    "# RunnableLambda(search_and_summarize).invoke(list(zip(a1, a2)))"
   ]
  },
  {
   "cell_type": "code",
   "execution_count": 14,
   "id": "9bb2dd73",
   "metadata": {},
   "outputs": [],
   "source": [
    "run_config = RunnableConfig(\n",
    "    max_concurrency=1,  # Adjust based on your system's capabilities\n",
    "    retry_on_failure=True,\n",
    "    retry_count=3,\n",
    "    retry_delay=5  # Delay in seconds between retries\n",
    ")\n",
    "\n",
    "parallel_search_chain = RunnablePassthrough().assign(\n",
    "    #test = lambda x: print(list(zip(x['search_queries'], x['subtopic_descriptions']))),\n",
    "    search_results=lambda x: RunnableLambda(search_and_summarize).batch(list(zip(x['search_queries'], x['subtopic_descriptions'])), config=run_config)\n",
    ")"
   ]
  },
  {
   "cell_type": "code",
   "execution_count": 15,
   "id": "da82eaea",
   "metadata": {},
   "outputs": [
    {
     "name": "stdout",
     "output_type": "stream",
     "text": [
      "('history of the internet arpanet tcp ip vint cerf bob kahn', \"This section should discuss the origins and development of the internet from its inception in the 1960s, including the ARPANET project, the creation of the TCP/IP protocol, and the early networking concepts. It will also explore the role of key figures such as Vint Cerf and Bob Kahn in shaping the internet's infrastructure.\")\n",
      "('Emergence of World Wide Web 1990s history HTTP browsers online communities', 'This section should focus on the emergence of the world wide web (WWW) in the mid-1990s, including the invention of HTTP, the development of browsers like Mosaic and Netscape, and the growth of online communities. It will also examine the impact of the web on global communication, commerce, and culture.')\n",
      "('recent internet technological advancements social media e commerce streaming cybersecurity online privacy digital divide', 'This section should discuss the significant technological advancements that have shaped the internet in recent years, such as the widespread adoption of broadband connectivity, the rise of social media, e-commerce, and streaming services. It will also touch on emerging challenges like cybersecurity threats, online privacy concerns, and the digital divide.')\n"
     ]
    },
    {
     "data": {
      "text/plain": [
       "{'topic': 'History of the Internet',\n",
       " 'number_of_subtopics': 3,\n",
       " 'subtopics': '{\"Establishing the Foundation: The Early Years of the Internet\": \"This section should discuss the origins and development of the internet from its inception in the 1960s, including the ARPANET project, the creation of the TCP/IP protocol, and the early networking concepts. It will also explore the role of key figures such as Vint Cerf and Bob Kahn in shaping the internet\\'s infrastructure.\", \\n\"The Internet Expands: The Rise of the World Wide Web\": \"This section should focus on the emergence of the world wide web (WWW) in the mid-1990s, including the invention of HTTP, the development of browsers like Mosaic and Netscape, and the growth of online communities. It will also examine the impact of the web on global communication, commerce, and culture.\", \\n\"The Modern Internet: Evolving Technologies and Challenges\": \"This section should discuss the significant technological advancements that have shaped the internet in recent years, such as the widespread adoption of broadband connectivity, the rise of social media, e-commerce, and streaming services. It will also touch on emerging challenges like cybersecurity threats, online privacy concerns, and the digital divide.\"}',\n",
       " 'subtopic_headings': ['Establishing the Foundation: The Early Years of the Internet',\n",
       "  'The Internet Expands: The Rise of the World Wide Web',\n",
       "  'The Modern Internet: Evolving Technologies and Challenges'],\n",
       " 'subtopic_descriptions': [\"This section should discuss the origins and development of the internet from its inception in the 1960s, including the ARPANET project, the creation of the TCP/IP protocol, and the early networking concepts. It will also explore the role of key figures such as Vint Cerf and Bob Kahn in shaping the internet's infrastructure.\",\n",
       "  'This section should focus on the emergence of the world wide web (WWW) in the mid-1990s, including the invention of HTTP, the development of browsers like Mosaic and Netscape, and the growth of online communities. It will also examine the impact of the web on global communication, commerce, and culture.',\n",
       "  'This section should discuss the significant technological advancements that have shaped the internet in recent years, such as the widespread adoption of broadband connectivity, the rise of social media, e-commerce, and streaming services. It will also touch on emerging challenges like cybersecurity threats, online privacy concerns, and the digital divide.'],\n",
       " 'search_queries': ['history of the internet arpanet tcp ip vint cerf bob kahn',\n",
       "  'Emergence of World Wide Web 1990s history HTTP browsers online communities',\n",
       "  'recent internet technological advancements social media e commerce streaming cybersecurity online privacy digital divide'],\n",
       " 'search_results': [\"The history of TCP/IP (Transmission Control Protocol/Internet Protocol) is a fascinating story that spans over four decades. Here's an overview:\\n\\n**Early Beginnings**\\n\\nIn the late 1960s, the United States Department of Defense's Advanced Research Projects Agency (ARPA) funded a project to create a network that could connect different computers across the country. This project was called ARPANET.\\n\\n**The First Internet Protocol**\\n\\nIn 1972, Vint Cerf and Bob Kahn developed the first internet protocol, which they called IP. They also designed TCP, a transport-layer protocol that would ensure reliable data transfer between devices on the network.\\n\\n**TCP/IP Emerge**\\n\\nIn the early 1970s, the ARPANET project was growing rapidly, and the need for a more efficient communication protocol became apparent. Cerf and Kahn revisited their earlier work and developed TCP/IP, which combined both protocols into one cohesive system.\\n\\n**RFC Request for Comments**\\n\\nIn 1969, the Internet Engineering Task Force (IETF) introduced the RFC format as a way to standardize internet protocols. The first RFC was issued in October 1969, and it outlined the initial protocol for ARPANET.\\n\\n**TCP/IP Adoption**\\n\\nAs ARPANET expanded, TCP/IP became the de facto standard for the network. In the late 1970s, other networks, such as the National Science Foundation Network (NSFNET), began to adopt TCP/IP as well.\\n\\n**The Internet Takes Shape**\\n\\nIn the 1980s, the internet grew rapidly, and TCP/IP became the dominant protocol on the network. The first Domain Name System (DNS) was introduced in 1983, making it easier for users to access websites using easy-to-remember domain names instead of IP addresses.\\n\\n**Modern TCP/IP**\\n\\nToday, TCP/IP is the foundation of the modern internet. It has undergone numerous updates and improvements over the years, including the introduction of IPv6 in 1998, which provides a larger address space and improved security features.\\n\\n**Key Players**\\n\\nSome key players who contributed to the development and evolution of TCP/IP include:\\n\\n* Vint Cerf: Co-inventor of TCP/IP\\n* Bob Kahn: Co-inventor of TCP/IP\\n* Jon Postel: Managed the assignment of IP addresses and developed the Domain Name System (DNS)\\n* Larry Roberts: Led the ARPANET project\\n\\n**Legacy**\\n\\nTCP/IP has had a profound impact on the development of the internet as we know it today. It has enabled global communication, e-commerce, and countless other applications that have transformed modern society.\\n\\nI hope this brief history provides a useful overview of TCP/IP's evolution!\",\n",
       "  'Here is the text with some formatting changes:\\n\\n**Introduction**\\n\\nThe internet was a radically different place in the 1990s compared to what it is today. However, its nature and use would ultimately set the stage for the modern web we know and love.\\n\\n**Effects on Society**\\n\\nThe internet revolutionized communication by enabling real-time messaging and email. People could easily connect with others across long distances, leading to a significant shift in how individuals and businesses communicated.\\n\\nInformation access was unprecedented, thanks to online search engines and databases that made it easier to find and retrieve information on a wide range of topics.\\n\\nThis democratization of knowledge had a transformative effect on education, research, and general knowledge acquisition.\\n\\nE-commerce emerged as a new way for consumers to purchase goods and services from the comfort of their homes. This shift had a profound impact on traditional retail industries.\\n\\nThe internet transformed the entertainment and media landscape, facilitating the sharing and distribution of digital content. Online news outlets, social media platforms, and streaming services became popular.\\n\\nGlobal connectivity was fostered through the internet, connecting people across the globe like never before. It facilitated cultural exchange, opened up opportunities for collaboration and cooperation on an international scale, and had a significant impact on social interactions and understanding.\\n\\nThe rise of e-commerce and online marketplaces also created new business opportunities and transformed traditional industries.\\n\\n**State of Web Development**\\n\\nHTML (HyperText Markup Language) was the backbone of all websites. It was a markup language that used opening and closing tags to represent elements of a website.\\n\\nDuring the 1990s, versions 1.0 to 3.2 of HTML were developed and released to the public. HTML 4.01 introduced Cascading Style Sheets (CSS), improved forms, and scripting capabilities.\\n\\nHTTP (Hypertext Transfer Protocol) is a protocol that governs communication between web servers and clients, enabling the transfer of hypertext documents on the internet. It defined rules for how requests and responses should be formatted and transmitted.\\n\\nHyperlinks were clickable elements on web pages that connect one resource to another. They allowed users to navigate between different web pages, websites, or sections within a page.\\n\\nPHP (Hypertext Preprocessor) is a server-side scripting language that was highly relevant to the development of the internet during the 1990s. It emerged as a popular scripting language for powering dynamic websites and applications.\\n\\n**Conclusion**\\n\\nThe internet in the 1990s was a radically different place, but its nature and use would ultimately set the stage for the modern web we know today.\\n\\nNext page: **The 2000s**',\n",
       "  \"The article discusses the importance of digital privacy in today's connected world. It highlights various threats to digital privacy, including surveillance technologies, data breaches, and hacking. The article also explores the role of encryption, artificial intelligence, and legal frameworks in protecting personal data.\\n\\nKey points:\\n\\n1. Digital privacy refers to the protection of personal information that is shared online.\\n2. The rise of surveillance technologies, such as facial recognition technology and AI-powered algorithms, poses significant threats to digital privacy.\\n3. Data breaches and hacking are also major concerns, with hackers accessing sensitive information like social security numbers and credit card details.\\n4. Encryption is a powerful tool for protecting personal data, but it is not foolproof and can be circumvented by governments or hackers.\\n5. The development of new technologies, such as blockchain and quantum computing, may enhance privacy, but also bring new challenges.\\n6. A balanced approach between security and privacy is needed to safeguard personal data.\\n\\nRecommendations:\\n\\n1. Individuals should take steps to protect their digital privacy, such as using strong passwords, enabling two-factor authentication, and being cautious when sharing personal information online.\\n2. Corporations and governments should prioritize transparency and accountability in how personal data is used.\\n3. Stronger regulations and laws are needed to protect individual rights and balance security and privacy concerns.\\n\\nOverall, the article emphasizes the importance of digital privacy and highlights the need for a balanced approach between security and privacy to safeguard personal data.\"]}"
      ]
     },
     "execution_count": 15,
     "metadata": {},
     "output_type": "execute_result"
    }
   ],
   "source": [
    "sequence_chain = subtopic_chain |  passthrough_chain | search_query_chain | parallel_search_chain\n",
    "result = sequence_chain.invoke({\"topic\": \"History of the Internet\", \"number_of_subtopics\": 3})\n",
    "result"
   ]
  },
  {
   "cell_type": "code",
   "execution_count": 41,
   "id": "a900830a",
   "metadata": {},
   "outputs": [],
   "source": [
    "def get_essay_content(subtopic_headings, search_results):\n",
    "    essay_content = \"\"\n",
    "    for i in range(len(result['search_results'])):\n",
    "        essay_content += result['subtopic_headings'][i]\n",
    "        essay_content += \":\"\n",
    "        essay_content += result['search_results'][i]\n",
    "        essay_content += \"\\n\\n\"\n",
    "    essay_content = essay_content.strip()\n",
    "    return essay_content"
   ]
  },
  {
   "cell_type": "code",
   "execution_count": 42,
   "id": "27c52246",
   "metadata": {},
   "outputs": [],
   "source": [
    "essay_content_chain = RunnablePassthrough().assign(\n",
    "    essay_content=lambda x: get_essay_content(x['subtopic_headings'], x['search_results'])\n",
    ")"
   ]
  },
  {
   "cell_type": "code",
   "execution_count": 38,
   "id": "bf180c53",
   "metadata": {},
   "outputs": [],
   "source": [
    "# essay_content = \"\"\n",
    "# for i in range(len(result['search_results'])):\n",
    "#     essay_content += result['subtopic_headings'][i]\n",
    "#     essay_content += \":\"\n",
    "#     essay_content += result['search_results'][i]\n",
    "#     essay_content += \"\\n\\n\"\n",
    "# essay_content = essay_content.strip()"
   ]
  },
  {
   "cell_type": "code",
   "execution_count": 43,
   "id": "9b8692ae",
   "metadata": {},
   "outputs": [],
   "source": [
    "essay_prompt = PromptTemplate.from_template(\n",
    "\"\"\"1. Write a highschool essay on the topic {topic}.\n",
    "2. The essay should be well structured and have the following subheadings: {subtopic_headings}.\n",
    "3. The essay should be written in a formal tone and should be suitable for a highschool student.\n",
    "4. Output should be in a markdown format.\n",
    "5. Summarize the essay only from the content provided.\n",
    "Content: {essay_content}\"\"\")\n",
    "\n",
    "model = OllamaLLM(model=\"llama3.2:latest\", run_local=True)\n",
    "\n",
    "essay_chain = essay_prompt | model | StrOutputParser()"
   ]
  },
  {
   "cell_type": "code",
   "execution_count": 44,
   "id": "ea6d36e1",
   "metadata": {},
   "outputs": [
    {
     "data": {
      "text/plain": [
       "\"# History of the Internet\\n## Early Beginnings of the Internet\\n\\nThe history of TCP/IP (Transmission Control Protocol/Internet Protocol) is a fascinating story that spans over four decades. In the late 1960s, the United States Department of Defense's Advanced Research Projects Agency (ARPA) funded a project to create a network that could connect different computers across the country. This project was called ARPANET.\\n\\nIn 1972, Vint Cerf and Bob Kahn developed the first internet protocol, which they called IP. They also designed TCP, a transport-layer protocol that would ensure reliable data transfer between devices on the network.\\n\\nTCP/IP emerged as a cohesive system in the early 1970s, combining both protocols into one. The Internet Engineering Task Force (IETF) introduced the RFC format as a way to standardize internet protocols in 1969.\\n\\nAs ARPANET expanded, TCP/IP became the de facto standard for the network in the late 1970s. Other networks, such as the National Science Foundation Network (NSFNET), adopted TCP/IP as well.\\n\\n## Expansion and Evolution\\n\\nIn the 1980s, the internet grew rapidly, and TCP/IP became the dominant protocol on the network. The first Domain Name System (DNS) was introduced in 1983, making it easier for users to access websites using easy-to-remember domain names instead of IP addresses.\\n\\nModern TCP/IP has undergone numerous updates and improvements over the years, including the introduction of IPv6 in 1998, which provides a larger address space and improved security features.\\n\\nKey players who contributed to the development and evolution of TCP/IP include Vint Cerf, Bob Kahn, Jon Postel, and Larry Roberts.\\n\\n## The Modern Internet: Implications and Challenges\\n\\nThe modern internet has had a profound impact on global communication, e-commerce, and countless other applications that have transformed modern society. However, it also poses significant challenges to digital privacy, security, and regulation.\\n\\nThe rise of surveillance technologies, data breaches, and hacking threatens the integrity of personal data. Encryption is a powerful tool for protecting personal data, but it is not foolproof and can be circumvented by governments or hackers.\\n\\nA balanced approach between security and privacy is needed to safeguard personal data. Individuals should take steps to protect their digital privacy, corporations and governments should prioritize transparency and accountability in how personal data is used, and stronger regulations and laws are needed to protect individual rights.\\n\\nThe modern internet also presents opportunities for innovation and growth, but it requires a nuanced approach that balances security, privacy, and regulation to ensure its continued development and success.\""
      ]
     },
     "execution_count": 44,
     "metadata": {},
     "output_type": "execute_result"
    }
   ],
   "source": [
    "sequence_chain = subtopic_chain |  passthrough_chain | search_query_chain | parallel_search_chain | essay_content_chain | essay_chain\n",
    "result = sequence_chain.invoke({\"topic\": \"History of the Internet\", \"number_of_subtopics\": 3})\n",
    "result"
   ]
  },
  {
   "cell_type": "code",
   "execution_count": null,
   "id": "cd68141c",
   "metadata": {},
   "outputs": [],
   "source": [
    "# result['essay_content'] = essay_content\n",
    "\n",
    "# final = essay_chain.invoke(result)"
   ]
  },
  {
   "cell_type": "code",
   "execution_count": 47,
   "id": "3909108a",
   "metadata": {},
   "outputs": [
    {
     "data": {
      "text/markdown": [
       "# History of the Internet\n",
       "## Early Beginnings of the Internet\n",
       "\n",
       "The history of TCP/IP (Transmission Control Protocol/Internet Protocol) is a fascinating story that spans over four decades. In the late 1960s, the United States Department of Defense's Advanced Research Projects Agency (ARPA) funded a project to create a network that could connect different computers across the country. This project was called ARPANET.\n",
       "\n",
       "In 1972, Vint Cerf and Bob Kahn developed the first internet protocol, which they called IP. They also designed TCP, a transport-layer protocol that would ensure reliable data transfer between devices on the network.\n",
       "\n",
       "TCP/IP emerged as a cohesive system in the early 1970s, combining both protocols into one. The Internet Engineering Task Force (IETF) introduced the RFC format as a way to standardize internet protocols in 1969.\n",
       "\n",
       "As ARPANET expanded, TCP/IP became the de facto standard for the network in the late 1970s. Other networks, such as the National Science Foundation Network (NSFNET), adopted TCP/IP as well.\n",
       "\n",
       "## Expansion and Evolution\n",
       "\n",
       "In the 1980s, the internet grew rapidly, and TCP/IP became the dominant protocol on the network. The first Domain Name System (DNS) was introduced in 1983, making it easier for users to access websites using easy-to-remember domain names instead of IP addresses.\n",
       "\n",
       "Modern TCP/IP has undergone numerous updates and improvements over the years, including the introduction of IPv6 in 1998, which provides a larger address space and improved security features.\n",
       "\n",
       "Key players who contributed to the development and evolution of TCP/IP include Vint Cerf, Bob Kahn, Jon Postel, and Larry Roberts.\n",
       "\n",
       "## The Modern Internet: Implications and Challenges\n",
       "\n",
       "The modern internet has had a profound impact on global communication, e-commerce, and countless other applications that have transformed modern society. However, it also poses significant challenges to digital privacy, security, and regulation.\n",
       "\n",
       "The rise of surveillance technologies, data breaches, and hacking threatens the integrity of personal data. Encryption is a powerful tool for protecting personal data, but it is not foolproof and can be circumvented by governments or hackers.\n",
       "\n",
       "A balanced approach between security and privacy is needed to safeguard personal data. Individuals should take steps to protect their digital privacy, corporations and governments should prioritize transparency and accountability in how personal data is used, and stronger regulations and laws are needed to protect individual rights.\n",
       "\n",
       "The modern internet also presents opportunities for innovation and growth, but it requires a nuanced approach that balances security, privacy, and regulation to ensure its continued development and success."
      ],
      "text/plain": [
       "<IPython.core.display.Markdown object>"
      ]
     },
     "metadata": {},
     "output_type": "display_data"
    }
   ],
   "source": [
    "from IPython.display import display, Markdown\n",
    "display(Markdown(result))"
   ]
  },
  {
   "cell_type": "code",
   "execution_count": null,
   "id": "80e170ea",
   "metadata": {},
   "outputs": [],
   "source": [
    "# Had to use duckduckgo_search == 8.0.2 because of rate limits issue."
   ]
  },
  {
   "cell_type": "code",
   "execution_count": 20,
   "id": "921bbb46",
   "metadata": {},
   "outputs": [],
   "source": [
    "# result[\"search_results\"]\n"
   ]
  },
  {
   "cell_type": "code",
   "execution_count": 16,
   "id": "f72d3fa4",
   "metadata": {},
   "outputs": [],
   "source": [
    "# links = DDGS().text('ARPANET history packet switching Vint Cerf Bob Kahn internet development', max_results=2)\n",
    "# links\n"
   ]
  },
  {
   "cell_type": "code",
   "execution_count": 17,
   "id": "ae728fc9",
   "metadata": {},
   "outputs": [],
   "source": [
    "# content = \"\"\n",
    "# for i in range(4):\n",
    "#     if i>0:\n",
    "#         content += \"\\n\\n\"\n",
    "#     search = requests.get(links[0]['href']).text\n",
    "#     search = BeautifulSoup(search, 'html.parser')\n",
    "#     search = search.get_text(separator=\"\\n\", strip=True)\n",
    "#     content += search\n",
    "# print(content)\n",
    "    "
   ]
  },
  {
   "cell_type": "code",
   "execution_count": null,
   "id": "40b42b0e",
   "metadata": {},
   "outputs": [],
   "source": [
    "# for link in links:\n",
    "# content = requests.get(links[0]['href']).text"
   ]
  },
  {
   "cell_type": "code",
   "execution_count": null,
   "id": "048b18da",
   "metadata": {},
   "outputs": [],
   "source": [
    "# content = BeautifulSoup(content, 'html.parser')\n",
    "# content = content.get_text(separator=\"\\n\", strip=True)"
   ]
  },
  {
   "cell_type": "code",
   "execution_count": null,
   "id": "8a0614c8",
   "metadata": {},
   "outputs": [],
   "source": [
    "# content"
   ]
  },
  {
   "cell_type": "code",
   "execution_count": 18,
   "id": "df4958ad",
   "metadata": {},
   "outputs": [],
   "source": [
    "# model = OllamaLLM(model=\"llama3.2:latest\", run_local=True)"
   ]
  },
  {
   "cell_type": "code",
   "execution_count": 19,
   "id": "a967a0d6",
   "metadata": {},
   "outputs": [],
   "source": [
    "# model.invoke(\"Obtain the information described in the description from the content. Use only what is found in the content. Do not add anything in addition. Summarize it for a highschool report.\" \\\n",
    "# \"Description:\" \\\n",
    "# \"The history of the internet began with the development of communication networks in the 1960s, focusing on military and academic uses. This section should discuss the origins of ARPANET, the first operational packet switching network, and its impact on the early internet era.\"\\\n",
    "# \"\"\\\n",
    "# \"Content:\" \\\n",
    "# + content)"
   ]
  },
  {
   "cell_type": "code",
   "execution_count": null,
   "id": "2f359bef",
   "metadata": {},
   "outputs": [],
   "source": []
  }
 ],
 "metadata": {
  "kernelspec": {
   "display_name": "llms2",
   "language": "python",
   "name": "python3"
  },
  "language_info": {
   "codemirror_mode": {
    "name": "ipython",
    "version": 3
   },
   "file_extension": ".py",
   "mimetype": "text/x-python",
   "name": "python",
   "nbconvert_exporter": "python",
   "pygments_lexer": "ipython3",
   "version": "3.11.11"
  }
 },
 "nbformat": 4,
 "nbformat_minor": 5
}
