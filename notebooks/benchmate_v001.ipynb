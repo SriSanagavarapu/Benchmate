{
 "cells": [
  {
   "cell_type": "code",
   "execution_count": null,
   "id": "aee07414",
   "metadata": {},
   "outputs": [],
   "source": [
    "# from openai import OpenAI\n",
    "import toml\n",
    "# from ollama import chat\n",
    "# from ollama import ChatResponse\n",
    "from ollama import Client\n",
    "from langchain_core.prompts import PromptTemplate\n",
    "import json\n",
    "from langchain_ollama.llms import OllamaLLM\n",
    "from langchain.chains.llm import LLMChain\n",
    "from duckduckgo_search import DDGS\n",
    "# from langchain_core.output_parsers import JsonOutputParser"
   ]
  },
  {
   "cell_type": "code",
   "execution_count": 2,
   "id": "cf25df27",
   "metadata": {},
   "outputs": [],
   "source": [
    "\n",
    "# Load a TOML file\n",
    "with open('../secrets.toml', 'r') as f:\n",
    "    openai_key = toml.load(f).get('api_keys').get('openai')\n",
    "\n",
    "assert openai_key, \"OpenAI API key not found in secrets.toml\"\n"
   ]
  },
  {
   "cell_type": "code",
   "execution_count": 3,
   "id": "755429bd",
   "metadata": {},
   "outputs": [],
   "source": [
    "class LLMModel:\n",
    "    def __init__(self, model_name: str, run_local: bool = True, system_prompt: str = \"you are a helpful assistant\"):\n",
    "        self.run_local = run_local\n",
    "        self.model_name = model_name\n",
    "        self.system_prompt = system_prompt\n",
    "        self.messages = [{\"role\": \"system\", \"content\": self.system_prompt}]\n",
    "        \n",
    "        if self.run_local:\n",
    "            self.client = Client(\n",
    "                host='http://localhost:11434',\n",
    "                # headers={'x-some-header': 'some-value'}\n",
    "                )\n",
    "\n",
    "    def add_message(self, role: str, content: str) -> bool:\n",
    "        if role not in [\"system\", \"user\", \"assistant\"]:\n",
    "            raise ValueError(\"Role must be 'system', 'user', or 'assistant'\")\n",
    "        self.messages.append({\"role\": role, \"content\": content})\n",
    "        return True\n",
    "\n",
    "    def clear_messages(self) -> bool:\n",
    "        self.messages = []\n",
    "        return True\n",
    "\n",
    "    def local_generate(self, prompt: str, max_tokens: int = 1500, **kwargs) -> str:\n",
    "        self.messages.append({\"role\": \"user\", \"content\": prompt})\n",
    "        response = self.client.chat(model=self.model_name, messages=self.messages, **kwargs)\n",
    "        self.messages.append({\"role\": \"assistant\", \"content\": response.message.content.strip()})\n",
    "        return response.message.content.strip()\n",
    "    \n",
    "    # question: how do I set max token in ollama python api?\n",
    "    \n"
   ]
  },
  {
   "cell_type": "code",
   "execution_count": 4,
   "id": "df15d478",
   "metadata": {},
   "outputs": [],
   "source": [
    "model = LLMModel(model_name=\"llama3.2:latest\", run_local=True)"
   ]
  },
  {
   "cell_type": "code",
   "execution_count": 5,
   "id": "82a967f3",
   "metadata": {},
   "outputs": [],
   "source": [
    "# model.local_generate(\"What is the capital of India?\")"
   ]
  },
  {
   "cell_type": "code",
   "execution_count": 6,
   "id": "7fbd3b63",
   "metadata": {},
   "outputs": [],
   "source": [
    "# model.local_generate(\"What is the weather like there?\")"
   ]
  },
  {
   "cell_type": "code",
   "execution_count": 7,
   "id": "96cfee15",
   "metadata": {},
   "outputs": [],
   "source": [
    "# model.local_generate(\"What is the best month to visit?\")"
   ]
  },
  {
   "cell_type": "code",
   "execution_count": 8,
   "id": "34a8de6a",
   "metadata": {},
   "outputs": [],
   "source": [
    "# model.local_generate(\"What is the best month to visit? Just give me the month name, no other text.\")"
   ]
  },
  {
   "cell_type": "code",
   "execution_count": 9,
   "id": "41b5f5a0",
   "metadata": {},
   "outputs": [],
   "source": [
    "# model.messages"
   ]
  },
  {
   "cell_type": "code",
   "execution_count": null,
   "id": "ebba9146",
   "metadata": {},
   "outputs": [
    {
     "data": {
      "text/plain": [
       "True"
      ]
     },
     "execution_count": 44,
     "metadata": {},
     "output_type": "execute_result"
    }
   ],
   "source": [
    "# model.clear_messages()"
   ]
  },
  {
   "cell_type": "code",
   "execution_count": null,
   "id": "365d3732",
   "metadata": {},
   "outputs": [],
   "source": [
    "# topic = \"The Emergency in India (1975-1977)\"\n",
    "# number_of_subtopics = 5"
   ]
  },
  {
   "cell_type": "code",
   "execution_count": null,
   "id": "775d76e0",
   "metadata": {},
   "outputs": [],
   "source": [
    "# subtopics_template = PromptTemplate.from_template(\n",
    "#     \"\"\"Generate a list of {number_of_subtopics} subheadings for a highschool essay on {topic}.\n",
    "#     Order the subheadings such that they have a logical sequence.\n",
    "#     Each subheading should have a one-line discription.\n",
    "#     Provide output in json format as follows:\n",
    "\n",
    "#     {{<heading1>:<description1>,\n",
    "#     <heading2>:<description2>,...}}\"\"\"\n",
    "# )"
   ]
  },
  {
   "cell_type": "code",
   "execution_count": 6,
   "id": "dc351d0a",
   "metadata": {},
   "outputs": [],
   "source": [
    "# subtopics_prompt = subtopics_template.format(topic=topic, number_of_subtopics=number_of_subtopics)\n",
    "# subtopics_prompt"
   ]
  },
  {
   "cell_type": "code",
   "execution_count": 7,
   "id": "633d4f55",
   "metadata": {},
   "outputs": [],
   "source": [
    "# topics = model.local_generate(subtopics_prompt, format='json')\n",
    "# topics = json.loads(topics)\n",
    "# topics"
   ]
  },
  {
   "cell_type": "code",
   "execution_count": 8,
   "id": "6d2e8c32",
   "metadata": {},
   "outputs": [],
   "source": [
    "# for k,v in topics.items():\n",
    "#     print(k)\n",
    "#     print(v)"
   ]
  },
  {
   "cell_type": "code",
   "execution_count": 9,
   "id": "37df1622",
   "metadata": {},
   "outputs": [],
   "source": [
    "def generate_subtopics(topic: str, number_of_subtopics: int, model: LLMModel) -> dict:\n",
    "    subtopics_template = PromptTemplate.from_template(\n",
    "    \"\"\"Generate a list of {number_of_subtopics} subheadings for a highschool essay on {topic}.\n",
    "    Order the subheadings such that they have a logical sequence.\n",
    "    Each subheading should have a one-line discription.\n",
    "    Provide output in json format as follows:\n",
    "\n",
    "    {{<heading1>:<description1>,\n",
    "    <heading2>:<description2>,...}}\"\"\"\n",
    "    )\n",
    "    \n",
    "    subtopics_prompt = subtopics_template.format(topic=topic, number_of_subtopics=number_of_subtopics)\n",
    "\n",
    "    topics = model.local_generate(subtopics_prompt, format='json')\n",
    "    topics = json.loads(topics)\n",
    "    return topics"
   ]
  },
  {
   "cell_type": "code",
   "execution_count": 11,
   "id": "1cbcff42",
   "metadata": {},
   "outputs": [
    {
     "data": {
      "text/plain": [
       "{'Foundations of Networking': 'Exploring the early beginnings of computer networking and its precursors',\n",
       " 'Birth of ARPANET and TCP/IP': 'Introducing the development of the first network that would later become the foundation of the internet',\n",
       " 'The Emergence of the World Wide Web': 'Describing how Tim Berners-Lee created the fundamental technologies for modern web browsing',\n",
       " 'Growth and Expansion of the Internet (1990s-2000s)': 'Discussing the rapid expansion of the internet during this period and its impact on society',\n",
       " 'Challenges and Security Concerns in the Modern Internet': 'Examining the issues that arose with the increasing popularity of social media, e-commerce, and cybersecurity threats',\n",
       " 'The Evolving Digital Landscape Today': 'Describing the current state of the internet, including emerging trends and technologies'}"
      ]
     },
     "execution_count": 11,
     "metadata": {},
     "output_type": "execute_result"
    }
   ],
   "source": [
    "generate_subtopics(\"History of the Internet\", 6, model)"
   ]
  },
  {
   "cell_type": "code",
   "execution_count": 12,
   "id": "69d35529",
   "metadata": {},
   "outputs": [
    {
     "data": {
      "text/plain": [
       "{'Introduction to Evolutionary Theory': 'Introducing the fundamental concept of evolution and its significance in biology',\n",
       " 'History of Evolutionary Thought': 'Exploring the key milestones and contributors in the development of evolutionary theory',\n",
       " \"Charles Darwin's Contributions\": \"Discussing the groundbreaking work of Charles Darwin and his book 'On the Origin of Species'\",\n",
       " 'The Mechanisms of Natural Selection': 'Describing the process by which natural selection shapes the evolution of species',\n",
       " 'Adaptation and Variation': 'Exploring how populations adapt to their environments through genetic variation',\n",
       " 'Mating and Reproduction in Evolutionary Contexts': 'Examining how mating strategies influence evolutionary outcomes',\n",
       " 'Species Diversification and Radiation': 'Discussing the mechanisms that lead to the creation of new species',\n",
       " 'Evolution vs. Creationism: Scientific Consensus': 'Comparing and contrasting the scientific views on evolution with creationist perspectives',\n",
       " 'Critiques and Controversies in Evolutionary Theory': 'Addressing criticisms and challenges faced by evolutionary theory',\n",
       " 'Applications of Evolutionary Principles in Real-World Scenarios': 'Showcasing the relevance of evolutionary principles to fields like medicine, ecology, and conservation'}"
      ]
     },
     "execution_count": 12,
     "metadata": {},
     "output_type": "execute_result"
    }
   ],
   "source": [
    "generate_subtopics(\"Theory of Evolution\", 10, model)"
   ]
  },
  {
   "cell_type": "code",
   "execution_count": null,
   "id": "eb7e38ed",
   "metadata": {},
   "outputs": [],
   "source": [
    "def subtopic_chain() -> LLMChain:\n",
    "    subtopics_template = PromptTemplate.from_template(\n",
    "        \"\"\"Generate a list of {number_of_subtopics} subheadings for a highschool essay on {topic}.\n",
    "        Order the subheadings such that they have a logical sequence.\n",
    "        Each subheading should be accompanied with a detailed discription on what the contents should be about.\n",
    "        Provide output in json format as follows:\n",
    "\n",
    "        {{'<heading1>':'<description1>',\n",
    "        '<heading2>':'<description2>',...}}\n",
    "        \n",
    "        Only return the json object without any additional text.\"\"\"\n",
    "    )\n",
    "    \n",
    "    model = OllamaLLM(model=\"llama3.2:latest\", run_local=True, format='json')\n",
    "\n",
    "    return LLMChain(llm=model, prompt=subtopics_template)"
   ]
  },
  {
   "cell_type": "code",
   "execution_count": 52,
   "id": "ea7a5735",
   "metadata": {},
   "outputs": [
    {
     "data": {
      "text/plain": [
       "{'Early Beginnings of the Internet': \"This section will explore the origins and early development of the internet, including key events such as ARPANET's creation in 1969 and the Network Control Protocol (NCP) that enabled communication between different networks.\",\n",
       " 'The Dawn of the World Wide Web': 'This subsection will discuss how Tim Berners-Lee invented the world wide web in 1989, and how it revolutionized the way people access and share information online.',\n",
       " 'Internet Expansion and Growth': 'This section will cover the rapid expansion and growth of the internet in the 1990s, including the development of dial-up connections, the rise of email, and the emergence of online communities.',\n",
       " \"The Internet's Impact on Society\": 'This subsection will examine how the internet has transformed the way people communicate, access information, and conduct business, as well as its impact on education, healthcare, and other areas of society.',\n",
       " 'Security Concerns and Cybercrime': 'This section will discuss the growing concerns over security and cybercrime, including hacking, identity theft, and online fraud, and how governments and organizations have responded to these issues.',\n",
       " 'The Modern Internet: Challenges and Future Directions': 'This final subsection will look at the current state of the internet, including emerging technologies like 5G and blockchain, as well as challenges such as regulating online content and mitigating the spread of misinformation.'}"
      ]
     },
     "execution_count": 52,
     "metadata": {},
     "output_type": "execute_result"
    }
   ],
   "source": [
    "chain = subtopic_chain()\n",
    "subtopics = chain.run(topic=\"History of the Internet\", number_of_subtopics=6)\n",
    "subtopics = json.loads(subtopics)\n",
    "subtopics"
   ]
  },
  {
   "cell_type": "code",
   "execution_count": 59,
   "id": "8ffe2b2e",
   "metadata": {},
   "outputs": [],
   "source": [
    "def search_query_chain() -> LLMChain:\n",
    "    search_query_template = PromptTemplate.from_template(\n",
    "        \"\"\"Generate a search query for Duckduckgo on the topic: {search_details}.\n",
    "        The query should be concise and relevant to the topic.\n",
    "        Return only the search query without any additional text.\"\"\"\n",
    "    )\n",
    "    \n",
    "    model = OllamaLLM(model=\"llama3.2:latest\", run_local=True)\n",
    "\n",
    "    return LLMChain(llm=model, prompt=search_query_template)"
   ]
  },
  {
   "cell_type": "code",
   "execution_count": 57,
   "id": "cf973218",
   "metadata": {},
   "outputs": [],
   "source": [
    "def get_search_queries(subtopics: dict, search_query_chain: LLMChain) -> dict:\n",
    "    search_queries = {}\n",
    "    for subtopic, desc in subtopics.items():\n",
    "        search_query = search_query_chain.run(search_details=desc)\n",
    "        search_queries[subtopic] = search_query\n",
    "    return search_queries"
   ]
  },
  {
   "cell_type": "code",
   "execution_count": 60,
   "id": "cbd2bc73",
   "metadata": {},
   "outputs": [
    {
     "data": {
      "text/plain": [
       "{'Early Beginnings of the Internet': '\"ARPANET creation and Network Control Protocol early development\"',\n",
       " 'The Dawn of the World Wide Web': '\"Tim Berners-Lee invention of the World Wide Web\"',\n",
       " 'Internet Expansion and Growth': '\"Internet 1990s expansion and growth\"',\n",
       " \"The Internet's Impact on Society\": '\"Internet\\'s impact on communication, information, business, education, healthcare, and society\"',\n",
       " 'Security Concerns and Cybercrime': '\"security measures against hacking and cybercrime\"',\n",
       " 'The Modern Internet: Challenges and Future Directions': '\"internet trends 2023 regulation blockchain misinformation\"'}"
      ]
     },
     "execution_count": 60,
     "metadata": {},
     "output_type": "execute_result"
    }
   ],
   "source": [
    "search_query_chain = search_query_chain()\n",
    "search_queries = get_search_queries(subtopics, search_query_chain)\n",
    "search_queries"
   ]
  },
  {
   "cell_type": "code",
   "execution_count": null,
   "id": "2d0f1b4f",
   "metadata": {},
   "outputs": [],
   "source": [
    "# def information_chain() -> LLMChain:\n",
    "#     information_template = PromptTemplate.from_template(\n",
    "#         \"\"\"Generate details for the\"\"\"\n",
    "#     )\n",
    "    \n",
    "#     model = OllamaLLM(model=\"llama3.2:latest\", run_local=True)\n",
    "\n",
    "#     return LLMChain(llm=model, prompt=information_template)"
   ]
  },
  {
   "cell_type": "code",
   "execution_count": null,
   "id": "937941c7",
   "metadata": {},
   "outputs": [],
   "source": [
    "# results = DDGS().text(\"the emergency\")"
   ]
  },
  {
   "cell_type": "code",
   "execution_count": null,
   "id": "50087a19",
   "metadata": {},
   "outputs": [],
   "source": [
    "# import requests\n",
    "# from bs4 import BeautifulSoup"
   ]
  },
  {
   "cell_type": "code",
   "execution_count": null,
   "id": "35f755a7",
   "metadata": {},
   "outputs": [],
   "source": [
    "# query = \"what is the best search engine\"\n",
    "# url = \"https://www.duckduckgo.com/?t=h_&q=\" + query.replace(\" \", \"+\") +\"&t=h_&ia=web\"\n",
    "# response = requests.get(url)\n",
    "# response.raise_for_status()\n",
    "# soup = BeautifulSoup(response.text, 'html.parser')"
   ]
  },
  {
   "cell_type": "code",
   "execution_count": 13,
   "id": "b37a1948",
   "metadata": {},
   "outputs": [],
   "source": [
    "# response.content"
   ]
  },
  {
   "cell_type": "code",
   "execution_count": null,
   "id": "7c48ae5a",
   "metadata": {},
   "outputs": [],
   "source": [
    "# def get_"
   ]
  },
  {
   "cell_type": "code",
   "execution_count": null,
   "id": "abecd48a",
   "metadata": {},
   "outputs": [],
   "source": [
    "# chain for subtopics - chain for search queries - chain for information retrieval from search results - chain for summarization"
   ]
  },
  {
   "cell_type": "code",
   "execution_count": null,
   "id": "9f8c1dce",
   "metadata": {},
   "outputs": [],
   "source": []
  }
 ],
 "metadata": {
  "kernelspec": {
   "display_name": "llms2",
   "language": "python",
   "name": "python3"
  },
  "language_info": {
   "codemirror_mode": {
    "name": "ipython",
    "version": 3
   },
   "file_extension": ".py",
   "mimetype": "text/x-python",
   "name": "python",
   "nbconvert_exporter": "python",
   "pygments_lexer": "ipython3",
   "version": "3.11.11"
  }
 },
 "nbformat": 4,
 "nbformat_minor": 5
}
