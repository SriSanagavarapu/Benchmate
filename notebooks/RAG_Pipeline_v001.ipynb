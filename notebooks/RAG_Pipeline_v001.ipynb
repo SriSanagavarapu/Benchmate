{
 "cells": [
  {
   "cell_type": "markdown",
   "id": "c1fe5dce",
   "metadata": {},
   "source": [
    "# Import"
   ]
  },
  {
   "cell_type": "code",
   "execution_count": 1,
   "id": "7460c99b",
   "metadata": {},
   "outputs": [],
   "source": [
    "import requests\n",
    "import os"
   ]
  },
  {
   "cell_type": "markdown",
   "id": "9eb8592c",
   "metadata": {},
   "source": [
    "# Downloading PDF for RAG"
   ]
  },
  {
   "cell_type": "code",
   "execution_count": 2,
   "id": "4842b337",
   "metadata": {},
   "outputs": [],
   "source": [
    "pdf_link = \"https://readindiabooks.com/ebook/PDF/1567798377_Indian_History_by_Krishna_Reddy@Sarkaripost.in_(2).pdf\"\n",
    "temp_file_location = os.getcwd() + \"/tmp/\"\n",
    "temp_file = \"sample.pdf\""
   ]
  },
  {
   "cell_type": "code",
   "execution_count": 3,
   "id": "0f53dc5b",
   "metadata": {},
   "outputs": [],
   "source": [
    "if not os.path.exists(temp_file_location):\n",
    "    os.makedirs(temp_file_location)"
   ]
  },
  {
   "cell_type": "code",
   "execution_count": 4,
   "id": "b90ae80f",
   "metadata": {},
   "outputs": [
    {
     "name": "stdout",
     "output_type": "stream",
     "text": [
      "Downloading PDF file from: https://readindiabooks.com/ebook/PDF/1567798377_Indian_History_by_Krishna_Reddy@Sarkaripost.in_(2).pdf\n",
      "Saving to: c:\\Users\\ssrim\\Documents\\Projects\\Kaggle\\classmate\\notebooks/tmp/sample.pdf\n",
      "PDF file downloaded successfully.\n"
     ]
    }
   ],
   "source": [
    "if not os.path.exists(temp_file_location + temp_file):\n",
    "    print(\"Downloading PDF file from:\", pdf_link)\n",
    "    print(\"Saving to:\", temp_file_location + temp_file)\n",
    "    with open(temp_file_location + temp_file, \"wb\") as f:\n",
    "        response = requests.get(pdf_link)\n",
    "        if ((response.status_code == 200) & (response.headers['Content-Type'] == 'application/pdf')):\n",
    "            print(\"PDF file downloaded successfully.\")\n",
    "            f.write(response.content)\n",
    "        else:\n",
    "            print(\"Failed to download PDF file. Status code:\", response.status_code)\n",
    "            print(\"Content-Type:\", response.headers['Content-Type'])\n",
    "else:\n",
    "    print(\"PDF file already exists at:\", temp_file_location + temp_file)\n",
    "    print(\"Skipping download.\")"
   ]
  },
  {
   "cell_type": "markdown",
   "id": "ba8f677d",
   "metadata": {},
   "source": [
    "# Reading PDF"
   ]
  },
  {
   "cell_type": "code",
   "execution_count": 6,
   "id": "f626f77c",
   "metadata": {},
   "outputs": [],
   "source": [
    "from langchain_community.document_loaders import PyPDFLoader"
   ]
  },
  {
   "cell_type": "code",
   "execution_count": 7,
   "id": "26e1909a",
   "metadata": {},
   "outputs": [
    {
     "name": "stdout",
     "output_type": "stream",
     "text": [
      "2230\n"
     ]
    }
   ],
   "source": [
    "loader = PyPDFLoader(temp_file_location + temp_file)\n",
    "docs = loader.load()\n",
    "print(len(docs))"
   ]
  },
  {
   "cell_type": "markdown",
   "id": "3503852d",
   "metadata": {},
   "source": [
    "# Removing Temp Folder"
   ]
  },
  {
   "cell_type": "code",
   "execution_count": 5,
   "id": "33f12dc7",
   "metadata": {},
   "outputs": [],
   "source": [
    "# # Removing tmp folder if it exists\n",
    "# if os.path.exists(temp_file_location):\n",
    "#     os.rmdir(temp_file_location)\n",
    "#     print(\"Temporary folder removed.\")"
   ]
  }
 ],
 "metadata": {
  "kernelspec": {
   "display_name": "llms2",
   "language": "python",
   "name": "llms2"
  },
  "language_info": {
   "codemirror_mode": {
    "name": "ipython",
    "version": 3
   },
   "file_extension": ".py",
   "mimetype": "text/x-python",
   "name": "python",
   "nbconvert_exporter": "python",
   "pygments_lexer": "ipython3",
   "version": "3.11.11"
  }
 },
 "nbformat": 4,
 "nbformat_minor": 5
}
