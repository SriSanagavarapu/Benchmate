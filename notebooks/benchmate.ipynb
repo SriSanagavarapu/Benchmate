{
 "cells": [
  {
   "cell_type": "code",
   "execution_count": 3,
   "id": "aee07414",
   "metadata": {},
   "outputs": [],
   "source": [
    "# from openai import OpenAI\n",
    "import toml\n",
    "# from ollama import chat\n",
    "# from ollama import ChatResponse\n",
    "from ollama import Client\n",
    "from langchain_core.prompts import PromptTemplate\n",
    "import json\n",
    "from langchain_ollama.llms import OllamaLLM\n",
    "from langchain.chains.llm import LLMChain\n"
   ]
  },
  {
   "cell_type": "code",
   "execution_count": 2,
   "id": "cf25df27",
   "metadata": {},
   "outputs": [],
   "source": [
    "\n",
    "# Load a TOML file\n",
    "with open('../secrets.toml', 'r') as f:\n",
    "    openai_key = toml.load(f).get('api_keys').get('openai')\n",
    "\n",
    "assert openai_key, \"OpenAI API key not found in secrets.toml\"\n"
   ]
  },
  {
   "cell_type": "code",
   "execution_count": 3,
   "id": "755429bd",
   "metadata": {},
   "outputs": [],
   "source": [
    "class LLMModel:\n",
    "    def __init__(self, model_name: str, run_local: bool = True, system_prompt: str = \"you are a helpful assistant\"):\n",
    "        self.run_local = run_local\n",
    "        self.model_name = model_name\n",
    "        self.system_prompt = system_prompt\n",
    "        self.messages = [{\"role\": \"system\", \"content\": self.system_prompt}]\n",
    "        \n",
    "        if self.run_local:\n",
    "            self.client = Client(\n",
    "                host='http://localhost:11434',\n",
    "                # headers={'x-some-header': 'some-value'}\n",
    "                )\n",
    "\n",
    "    def add_message(self, role: str, content: str) -> bool:\n",
    "        if role not in [\"system\", \"user\", \"assistant\"]:\n",
    "            raise ValueError(\"Role must be 'system', 'user', or 'assistant'\")\n",
    "        self.messages.append({\"role\": role, \"content\": content})\n",
    "        return True\n",
    "\n",
    "    def clear_messages(self) -> bool:\n",
    "        self.messages = []\n",
    "        return True\n",
    "\n",
    "    def local_generate(self, prompt: str, max_tokens: int = 1500, **kwargs) -> str:\n",
    "        self.messages.append({\"role\": \"user\", \"content\": prompt})\n",
    "        response = self.client.chat(model=self.model_name, messages=self.messages, **kwargs)\n",
    "        self.messages.append({\"role\": \"assistant\", \"content\": response.message.content.strip()})\n",
    "        return response.message.content.strip()\n",
    "    \n",
    "    # question: how do I set max token in ollama python api?\n",
    "    \n"
   ]
  },
  {
   "cell_type": "code",
   "execution_count": 4,
   "id": "df15d478",
   "metadata": {},
   "outputs": [],
   "source": [
    "model = LLMModel(model_name=\"llama3.2:latest\", run_local=True)"
   ]
  },
  {
   "cell_type": "code",
   "execution_count": 5,
   "id": "82a967f3",
   "metadata": {},
   "outputs": [],
   "source": [
    "# model.local_generate(\"What is the capital of India?\")"
   ]
  },
  {
   "cell_type": "code",
   "execution_count": 6,
   "id": "7fbd3b63",
   "metadata": {},
   "outputs": [],
   "source": [
    "# model.local_generate(\"What is the weather like there?\")"
   ]
  },
  {
   "cell_type": "code",
   "execution_count": 7,
   "id": "96cfee15",
   "metadata": {},
   "outputs": [],
   "source": [
    "# model.local_generate(\"What is the best month to visit?\")"
   ]
  },
  {
   "cell_type": "code",
   "execution_count": 8,
   "id": "34a8de6a",
   "metadata": {},
   "outputs": [],
   "source": [
    "# model.local_generate(\"What is the best month to visit? Just give me the month name, no other text.\")"
   ]
  },
  {
   "cell_type": "code",
   "execution_count": 9,
   "id": "41b5f5a0",
   "metadata": {},
   "outputs": [],
   "source": [
    "# model.messages"
   ]
  },
  {
   "cell_type": "code",
   "execution_count": null,
   "id": "ebba9146",
   "metadata": {},
   "outputs": [
    {
     "data": {
      "text/plain": [
       "True"
      ]
     },
     "execution_count": 44,
     "metadata": {},
     "output_type": "execute_result"
    }
   ],
   "source": [
    "# model.clear_messages()"
   ]
  },
  {
   "cell_type": "code",
   "execution_count": 35,
   "id": "365d3732",
   "metadata": {},
   "outputs": [],
   "source": [
    "topic = \"The Emergency in India (1975-1977)\"\n",
    "number_of_subtopics = 5\n"
   ]
  },
  {
   "cell_type": "code",
   "execution_count": null,
   "id": "775d76e0",
   "metadata": {},
   "outputs": [],
   "source": [
    "subtopics_template = PromptTemplate.from_template(\n",
    "    \"\"\"Generate a list of {number_of_subtopics} subheadings for a highschool essay on {topic}.\n",
    "    Order the subheadings such that they have a logical sequence.\n",
    "    Each subheading should have a one-line discription.\n",
    "    Provide output in json format as follows:\n",
    "\n",
    "    {{<heading1>:<description1>,\n",
    "    <heading2>:<description2>,...}}\"\"\"\n",
    ")"
   ]
  },
  {
   "cell_type": "code",
   "execution_count": null,
   "id": "dc351d0a",
   "metadata": {},
   "outputs": [
    {
     "data": {
      "text/plain": [
       "'Generate a list of 5 subheadings for a highschool essay on The Emergency in India (1975-1977).\\n    Order the subheadings such that they have a logical sequence.\\n    Each subheading should have a one-line discription.\\n    Provide output in json format as follows:\\n\\n    {<heading1>:<description1>,\\n    <heading2>:<description2>,...}'"
      ]
     },
     "execution_count": 46,
     "metadata": {},
     "output_type": "execute_result"
    }
   ],
   "source": [
    "subtopics_prompt = subtopics_template.format(topic=topic, number_of_subtopics=number_of_subtopics)\n",
    "subtopics_prompt"
   ]
  },
  {
   "cell_type": "code",
   "execution_count": 47,
   "id": "633d4f55",
   "metadata": {},
   "outputs": [
    {
     "data": {
      "text/plain": [
       "{'Causes_of_the_emergency': 'Analyze the historical events that led to the declaration of emergency by Prime Minister Indira Gandhi in 1975.',\n",
       " 'Effects_on_indian_politics': \"Explain how the Emergency affected India's political landscape and its impact on the country's democratic institutions.\",\n",
       " 'Censorship_and_media_control': 'Discuss the measures taken by the government to control media coverage during the Emergency period, including censorship and suppression of opposition voices.',\n",
       " 'Dissolution_of_constituent_assemblies': 'Describe the dissolution of the constituent assemblies at the Centre and the States by the President on June 25, 1975, marking a significant turning point in the Emergency',\n",
       " 'Legacy_of_the_emergency_and_reforms': \"Assess the lasting impact of the Emergency period on India's politics, economy, and society, including the subsequent reforms introduced by Prime Minister Rajiv Gandhi.\"}"
      ]
     },
     "execution_count": 47,
     "metadata": {},
     "output_type": "execute_result"
    }
   ],
   "source": [
    "topics = model.local_generate(subtopics_prompt, format='json')\n",
    "topics = json.loads(topics)\n",
    "topics"
   ]
  },
  {
   "cell_type": "code",
   "execution_count": 48,
   "id": "6d2e8c32",
   "metadata": {},
   "outputs": [
    {
     "name": "stdout",
     "output_type": "stream",
     "text": [
      "Causes_of_the_emergency\n",
      "Analyze the historical events that led to the declaration of emergency by Prime Minister Indira Gandhi in 1975.\n",
      "Effects_on_indian_politics\n",
      "Explain how the Emergency affected India's political landscape and its impact on the country's democratic institutions.\n",
      "Censorship_and_media_control\n",
      "Discuss the measures taken by the government to control media coverage during the Emergency period, including censorship and suppression of opposition voices.\n",
      "Dissolution_of_constituent_assemblies\n",
      "Describe the dissolution of the constituent assemblies at the Centre and the States by the President on June 25, 1975, marking a significant turning point in the Emergency\n",
      "Legacy_of_the_emergency_and_reforms\n",
      "Assess the lasting impact of the Emergency period on India's politics, economy, and society, including the subsequent reforms introduced by Prime Minister Rajiv Gandhi.\n"
     ]
    }
   ],
   "source": [
    "for k,v in topics.items():\n",
    "    print(k)\n",
    "    print(v)"
   ]
  },
  {
   "cell_type": "code",
   "execution_count": 50,
   "id": "37df1622",
   "metadata": {},
   "outputs": [],
   "source": [
    "def generate_subtopics(topic: str, number_of_subtopics: int, model: LLMModel) -> dict:\n",
    "    subtopics_template = PromptTemplate.from_template(\n",
    "    \"\"\"Generate a list of {number_of_subtopics} subheadings for a highschool essay on {topic}.\n",
    "    Order the subheadings such that they have a logical sequence.\n",
    "    Each subheading should have a one-line discription.\n",
    "    Provide output in json format as follows:\n",
    "\n",
    "    {{<heading1>:<description1>,\n",
    "    <heading2>:<description2>,...}}\"\"\"\n",
    "    )\n",
    "    \n",
    "    subtopics_prompt = subtopics_template.format(topic=topic, number_of_subtopics=number_of_subtopics)\n",
    "\n",
    "    topics = model.local_generate(subtopics_prompt, format='json')\n",
    "    topics = json.loads(topics)\n",
    "    return topics"
   ]
  },
  {
   "cell_type": "code",
   "execution_count": 27,
   "id": "eb7e38ed",
   "metadata": {},
   "outputs": [],
   "source": [
    "def subtopic_chain() -> LLMChain:\n",
    "    subtopics_template = PromptTemplate.from_template(\n",
    "        \"\"\"Generate a list of {number_of_subtopics} subheadings for a highschool essay on {topic}.\n",
    "        Order the subheadings such that they have a logical sequence.\n",
    "        Each subheading should have a one-line discription.\n",
    "        Provide output in json format as follows:\n",
    "\n",
    "        {{<heading1>:<description1>,\n",
    "        <heading2>:<description2>,...}}\n",
    "        \n",
    "        Only return the json object without any additional text.\"\"\"\n",
    "    )\n",
    "    \n",
    "    model = OllamaLLM(model=\"llama3.2:latest\", run_local=True)\n",
    "\n",
    "    return LLMChain(llm=model, prompt=subtopics_template)"
   ]
  },
  {
   "cell_type": "code",
   "execution_count": 51,
   "id": "1cbcff42",
   "metadata": {},
   "outputs": [
    {
     "data": {
      "text/plain": [
       "{'Early Beginnings': 'Discuss the origins of the internet, from its development in the 1960s by the United States Department of Defense to its first functional networks.',\n",
       " 'ARPANET and Network Expansion': 'Explain how ARPANET, the first operational packet switching network, expanded into a global network through various government and private initiatives.',\n",
       " 'TCP/IP and the Internet Protocol': 'Describe the development of TCP/IP (Transmission Control Protocol/Internet Protocol), which became the standard communication protocol for the internet.',\n",
       " 'World Wide Web and HTML': 'Introduce the World Wide Web and Hypertext Markup Language (HTML), technologies invented by Tim Berners-Lee that enabled web browsing and online content sharing.',\n",
       " 'Internet Governance and Regulation': 'Analyze the evolution of internet governance, including the establishment of organizations such as ICANN (Internet Corporation for Assigned Names and Numbers) and efforts to regulate online content.',\n",
       " 'Impact and Future of the Internet': \"Assess the internet's profound impact on society, culture, and economy, and discuss potential future developments and challenges in this rapidly evolving technology.\"}"
      ]
     },
     "execution_count": 51,
     "metadata": {},
     "output_type": "execute_result"
    }
   ],
   "source": [
    "generate_subtopics(\"History of the Internet\", 6, model)"
   ]
  },
  {
   "cell_type": "code",
   "execution_count": 52,
   "id": "69d35529",
   "metadata": {},
   "outputs": [
    {
     "data": {
      "text/plain": [
       "{'Introduction to Agentic AI': 'Introduce the concept of agentic AI, which refers to artificial intelligence that can make decisions and act independently.',\n",
       " 'Early Foundations: Robotics and Simulation': 'Discuss the early foundations of agentic AI, including robotics and simulation research that laid the groundwork for more advanced systems.',\n",
       " 'Machine Learning and Reinforcement Learning': 'Explain how machine learning and reinforcement learning techniques have been used to create agentic AI systems that can learn from experience and make decisions.',\n",
       " 'Development of AlphaGo: A Key Breakthrough': 'Describe the development of AlphaGo, a computer program that defeated a human world champion in Go, marking a significant milestone in agentic AI research.',\n",
       " 'Modern Agentic AI: Applications and Use Cases': 'Discuss various applications and use cases of modern agentic AI, including autonomous vehicles, drones, and smart home systems.',\n",
       " 'Value Alignment and Ethics': 'Analyze the importance of value alignment and ethics in agentic AI development, including the need for AI systems to align with human values and avoid causing harm.',\n",
       " 'Explainability and Transparency: Challenges in Agentic AI': 'Discuss the challenges of explainability and transparency in agentic AI, including the difficulty of understanding how AI systems make decisions and predict their behavior.',\n",
       " 'Advances in Natural Language Processing (NLP)': 'Introduce advances in NLP that have enabled agentic AI systems to understand and interact with human language more effectively.',\n",
       " 'Current Research Trends: Transfer Learning and Multitask Learning': 'Discuss current research trends in agentic AI, including the use of transfer learning and multitask learning techniques to improve system performance.',\n",
       " 'Future Directions: Human-AI Collaboration and Societal Impact': 'Assess the potential future directions for agentic AI, including human-AI collaboration and the societal impact of these systems.'}"
      ]
     },
     "execution_count": 52,
     "metadata": {},
     "output_type": "execute_result"
    }
   ],
   "source": [
    "generate_subtopics(\"Evolution of Agentic AI\", 10, model)"
   ]
  },
  {
   "cell_type": "code",
   "execution_count": 32,
   "id": "ea7a5735",
   "metadata": {},
   "outputs": [
    {
     "data": {
      "text/plain": [
       "{'Early Beginnings': 'The origins of the internet date back to the 1960s, with the development of ARPANET by the US Department of Defense.',\n",
       " 'Network Expansion and TCP/IP': 'The expansion of the internet led to the creation of the Transmission Control Protocol/Internet Protocol (TCP/IP), a standard that enabled communication between different networks.',\n",
       " 'The Internet Goes Public': 'In the 1980s, the internet was opened to the public, with the introduction of services such as America Online and CompuServe.',\n",
       " 'World Wide Web and HTTP': 'The World Wide Web was invented by Tim Berners-Lee in 1989, revolutionizing the way people accessed and shared information online.',\n",
       " \"The Internet's Impact on Society\": 'The internet has had a profound impact on modern society, transforming the way we communicate, work, and access information.',\n",
       " 'Modern Internet and Future Developments': 'Today, the internet continues to evolve, with advancements in technologies such as artificial intelligence, blockchain, and 5G networks.'}"
      ]
     },
     "execution_count": 32,
     "metadata": {},
     "output_type": "execute_result"
    }
   ],
   "source": [
    "chain = subtopic_chain()\n",
    "subtopics = chain.run(topic=\"History of the Internet\", number_of_subtopics=6)\n",
    "subtopics = json.loads(subtopics)\n",
    "subtopics"
   ]
  },
  {
   "cell_type": "code",
   "execution_count": 14,
   "id": "7d451712",
   "metadata": {},
   "outputs": [
    {
     "data": {
      "text/plain": [
       "'Here are 10 potential song title ideas about parrots:\\n\\n1. \"Feathered Friends Forever\"\\n2. \"Parrot\\'s Lament\"\\n3. \"Rainbow Wings\"\\n4. \"Squawk Serenade\"\\n5. \"Colorful Chaos\"\\n6. \"The Parrot\\'s Prayer\"\\n7. \"Wings of Wonder\"\\n8. \"Mimicry Blues\"\\n9. \"Sunset in the Aviary\"\\n10. \"Flock to Me\"\\n\\nLet me know if you\\'d like me to suggest more!'"
      ]
     },
     "execution_count": 14,
     "metadata": {},
     "output_type": "execute_result"
    }
   ],
   "source": [
    "model = OllamaLLM(model=\"llama3.2:latest\")\n",
    "model.invoke(\"Come up with 10 names for a song about parrots\")"
   ]
  },
  {
   "cell_type": "code",
   "execution_count": null,
   "id": "2d0f1b4f",
   "metadata": {},
   "outputs": [],
   "source": []
  }
 ],
 "metadata": {
  "kernelspec": {
   "display_name": "llms2",
   "language": "python",
   "name": "python3"
  },
  "language_info": {
   "codemirror_mode": {
    "name": "ipython",
    "version": 3
   },
   "file_extension": ".py",
   "mimetype": "text/x-python",
   "name": "python",
   "nbconvert_exporter": "python",
   "pygments_lexer": "ipython3",
   "version": "3.11.11"
  }
 },
 "nbformat": 4,
 "nbformat_minor": 5
}
