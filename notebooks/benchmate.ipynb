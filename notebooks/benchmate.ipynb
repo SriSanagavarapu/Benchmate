{
 "cells": [
  {
   "cell_type": "code",
   "execution_count": 20,
   "id": "aee07414",
   "metadata": {},
   "outputs": [],
   "source": [
    "from openai import OpenAI\n",
    "import toml\n",
    "from ollama import chat\n",
    "from ollama import ChatResponse\n",
    "from ollama import Client\n",
    "from langchain_core.prompts import PromptTemplate\n"
   ]
  },
  {
   "cell_type": "code",
   "execution_count": 9,
   "id": "cf25df27",
   "metadata": {},
   "outputs": [],
   "source": [
    "\n",
    "# Load a TOML file\n",
    "with open('../secrets.toml', 'r') as f:\n",
    "    openai_key = toml.load(f).get('api_keys').get('openai')\n",
    "\n",
    "assert openai_key, \"OpenAI API key not found in secrets.toml\"\n"
   ]
  },
  {
   "cell_type": "code",
   "execution_count": 56,
   "id": "755429bd",
   "metadata": {},
   "outputs": [],
   "source": [
    "class LLMModel:\n",
    "    def __init__(self, model_name: str, run_local: bool = True, system_prompt: str = \"you are a helpful assistant\"):\n",
    "        self.run_local = run_local\n",
    "        self.model_name = model_name\n",
    "        self.system_prompt = system_prompt\n",
    "        self.messages = [{\"role\": \"system\", \"content\": self.system_prompt}]\n",
    "        \n",
    "        if self.run_local:\n",
    "            self.client = Client(\n",
    "                host='http://localhost:11434',\n",
    "                # headers={'x-some-header': 'some-value'}\n",
    "                )\n",
    "\n",
    "    def add_message(self, role: str, content: str) -> bool:\n",
    "        if role not in [\"system\", \"user\", \"assistant\"]:\n",
    "            raise ValueError(\"Role must be 'system', 'user', or 'assistant'\")\n",
    "        self.messages.append({\"role\": role, \"content\": content})\n",
    "        return True\n",
    "\n",
    "    def clear_messages(self) -> bool:\n",
    "        self.messages = []\n",
    "        return True\n",
    "\n",
    "    def local_generate(self, prompt: str, max_tokens: int = 1500, **kwargs) -> str:\n",
    "        self.messages.append({\"role\": \"user\", \"content\": prompt})\n",
    "        response = self.client.chat(model=self.model_name, messages=self.messages, **kwargs)\n",
    "        self.messages.append({\"role\": \"assistant\", \"content\": response.message.content.strip()})\n",
    "        return response.message.content.strip()\n",
    "    \n",
    "    # question: how do I set max token in ollama python api?\n",
    "    \n"
   ]
  },
  {
   "cell_type": "code",
   "execution_count": 57,
   "id": "df15d478",
   "metadata": {},
   "outputs": [],
   "source": [
    "model = LLMModel(model_name=\"llama3.2:latest\", run_local=True)"
   ]
  },
  {
   "cell_type": "code",
   "execution_count": 12,
   "id": "82a967f3",
   "metadata": {},
   "outputs": [],
   "source": [
    "# model.local_generate(\"What is the capital of India?\")"
   ]
  },
  {
   "cell_type": "code",
   "execution_count": 13,
   "id": "7fbd3b63",
   "metadata": {},
   "outputs": [],
   "source": [
    "# model.local_generate(\"What is the weather like there?\")"
   ]
  },
  {
   "cell_type": "code",
   "execution_count": 14,
   "id": "96cfee15",
   "metadata": {},
   "outputs": [],
   "source": [
    "# model.local_generate(\"What is the best month to visit?\")"
   ]
  },
  {
   "cell_type": "code",
   "execution_count": 15,
   "id": "34a8de6a",
   "metadata": {},
   "outputs": [],
   "source": [
    "# model.local_generate(\"What is the best month to visit? Just give me the month name, no other text.\")"
   ]
  },
  {
   "cell_type": "code",
   "execution_count": 16,
   "id": "41b5f5a0",
   "metadata": {},
   "outputs": [],
   "source": [
    "# model.messages"
   ]
  },
  {
   "cell_type": "code",
   "execution_count": null,
   "id": "ebba9146",
   "metadata": {},
   "outputs": [
    {
     "data": {
      "text/plain": [
       "True"
      ]
     },
     "execution_count": 34,
     "metadata": {},
     "output_type": "execute_result"
    }
   ],
   "source": [
    "# model.clear_messages()"
   ]
  },
  {
   "cell_type": "code",
   "execution_count": null,
   "id": "83b64fe2",
   "metadata": {},
   "outputs": [],
   "source": []
  },
  {
   "cell_type": "code",
   "execution_count": 58,
   "id": "365d3732",
   "metadata": {},
   "outputs": [],
   "source": [
    "topic = \"The Emergency in India (1975-1977)\""
   ]
  },
  {
   "cell_type": "code",
   "execution_count": 68,
   "id": "775d76e0",
   "metadata": {},
   "outputs": [],
   "source": [
    "generate_subtopics = PromptTemplate.from_template(\n",
    "    \"\"\"Generate a list of 5 subheadings for a highschool essay on {topic}. Provide output in json format as follows:\n",
    "    {{'<title>':'<description>',\n",
    "    '<title>':'<description>',...}}\n",
    "    \"\"\"\n",
    ")"
   ]
  },
  {
   "cell_type": "code",
   "execution_count": 69,
   "id": "dc351d0a",
   "metadata": {},
   "outputs": [
    {
     "data": {
      "text/plain": [
       "\"Generate a list of 5 subheadings for a highschool essay on The Emergency in India (1975-1977). Provide output in json format as follows:\\n    {'<title>':'<description>',\\n    '<title>':'<description>',...}\\n    \""
      ]
     },
     "execution_count": 69,
     "metadata": {},
     "output_type": "execute_result"
    }
   ],
   "source": [
    "subtopics_prompt = generate_subtopics.format(topic=topic)\n",
    "subtopics_prompt"
   ]
  },
  {
   "cell_type": "code",
   "execution_count": 70,
   "id": "633d4f55",
   "metadata": {},
   "outputs": [
    {
     "data": {
      "text/plain": [
       "'{\"Declarations of Emergency: What Led to the 1975 Crisis?\":\"An analysis of Indira Gandhi\\'s motivations and decisions that led to the imposition of the Emergency\",\\n\"The Impact on India\\'s Democracy: A Critical Examination of the Emergency Period\":\"A discussion on how the Emergency affected the country\\'s constitutional framework and democratic institutions\",\\n\"Rise of Opponents: The Emergence of Opposition Movements During the Emergency\":\"An exploration of the various opposition movements that emerged during the Emergency period, including the Congress (R) Party and the Janata Party\",\\n\"Economic Reforms Under Emergency Rule\":\"An examination of the economic policies implemented by the government during the Emergency, including price controls, nationalization, and export restrictions\",\\n\"Legacy of the Emergency: The Road to Restitution of Democracy in India\":\"A consideration of the lasting impact of the Emergency on Indian politics and society, and the steps taken to restore democracy and the rule of law\"}'"
      ]
     },
     "execution_count": 70,
     "metadata": {},
     "output_type": "execute_result"
    }
   ],
   "source": [
    "model.local_generate(subtopics_prompt, format='json')"
   ]
  },
  {
   "cell_type": "code",
   "execution_count": null,
   "id": "6d2e8c32",
   "metadata": {},
   "outputs": [],
   "source": []
  }
 ],
 "metadata": {
  "kernelspec": {
   "display_name": "llms2",
   "language": "python",
   "name": "python3"
  },
  "language_info": {
   "codemirror_mode": {
    "name": "ipython",
    "version": 3
   },
   "file_extension": ".py",
   "mimetype": "text/x-python",
   "name": "python",
   "nbconvert_exporter": "python",
   "pygments_lexer": "ipython3",
   "version": "3.11.11"
  }
 },
 "nbformat": 4,
 "nbformat_minor": 5
}
