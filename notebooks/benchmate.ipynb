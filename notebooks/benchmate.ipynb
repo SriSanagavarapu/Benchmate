{
 "cells": [
  {
   "cell_type": "code",
   "execution_count": 23,
   "id": "aee07414",
   "metadata": {},
   "outputs": [],
   "source": [
    "# from openai import OpenAI\n",
    "import toml\n",
    "# from ollama import chat\n",
    "# from ollama import ChatResponse\n",
    "from ollama import Client\n",
    "from langchain_core.prompts import PromptTemplate\n",
    "import json\n",
    "from langchain_ollama.llms import OllamaLLM\n",
    "from langchain.chains.llm import LLMChain\n",
    "from duckduckgo_search import DDGS\n"
   ]
  },
  {
   "cell_type": "code",
   "execution_count": 2,
   "id": "cf25df27",
   "metadata": {},
   "outputs": [],
   "source": [
    "\n",
    "# Load a TOML file\n",
    "with open('../secrets.toml', 'r') as f:\n",
    "    openai_key = toml.load(f).get('api_keys').get('openai')\n",
    "\n",
    "assert openai_key, \"OpenAI API key not found in secrets.toml\"\n"
   ]
  },
  {
   "cell_type": "code",
   "execution_count": 3,
   "id": "755429bd",
   "metadata": {},
   "outputs": [],
   "source": [
    "class LLMModel:\n",
    "    def __init__(self, model_name: str, run_local: bool = True, system_prompt: str = \"you are a helpful assistant\"):\n",
    "        self.run_local = run_local\n",
    "        self.model_name = model_name\n",
    "        self.system_prompt = system_prompt\n",
    "        self.messages = [{\"role\": \"system\", \"content\": self.system_prompt}]\n",
    "        \n",
    "        if self.run_local:\n",
    "            self.client = Client(\n",
    "                host='http://localhost:11434',\n",
    "                # headers={'x-some-header': 'some-value'}\n",
    "                )\n",
    "\n",
    "    def add_message(self, role: str, content: str) -> bool:\n",
    "        if role not in [\"system\", \"user\", \"assistant\"]:\n",
    "            raise ValueError(\"Role must be 'system', 'user', or 'assistant'\")\n",
    "        self.messages.append({\"role\": role, \"content\": content})\n",
    "        return True\n",
    "\n",
    "    def clear_messages(self) -> bool:\n",
    "        self.messages = []\n",
    "        return True\n",
    "\n",
    "    def local_generate(self, prompt: str, max_tokens: int = 1500, **kwargs) -> str:\n",
    "        self.messages.append({\"role\": \"user\", \"content\": prompt})\n",
    "        response = self.client.chat(model=self.model_name, messages=self.messages, **kwargs)\n",
    "        self.messages.append({\"role\": \"assistant\", \"content\": response.message.content.strip()})\n",
    "        return response.message.content.strip()\n",
    "    \n",
    "    # question: how do I set max token in ollama python api?\n",
    "    \n"
   ]
  },
  {
   "cell_type": "code",
   "execution_count": 4,
   "id": "df15d478",
   "metadata": {},
   "outputs": [],
   "source": [
    "model = LLMModel(model_name=\"llama3.2:latest\", run_local=True)"
   ]
  },
  {
   "cell_type": "code",
   "execution_count": 5,
   "id": "82a967f3",
   "metadata": {},
   "outputs": [],
   "source": [
    "# model.local_generate(\"What is the capital of India?\")"
   ]
  },
  {
   "cell_type": "code",
   "execution_count": 6,
   "id": "7fbd3b63",
   "metadata": {},
   "outputs": [],
   "source": [
    "# model.local_generate(\"What is the weather like there?\")"
   ]
  },
  {
   "cell_type": "code",
   "execution_count": 7,
   "id": "96cfee15",
   "metadata": {},
   "outputs": [],
   "source": [
    "# model.local_generate(\"What is the best month to visit?\")"
   ]
  },
  {
   "cell_type": "code",
   "execution_count": 8,
   "id": "34a8de6a",
   "metadata": {},
   "outputs": [],
   "source": [
    "# model.local_generate(\"What is the best month to visit? Just give me the month name, no other text.\")"
   ]
  },
  {
   "cell_type": "code",
   "execution_count": 9,
   "id": "41b5f5a0",
   "metadata": {},
   "outputs": [],
   "source": [
    "# model.messages"
   ]
  },
  {
   "cell_type": "code",
   "execution_count": null,
   "id": "ebba9146",
   "metadata": {},
   "outputs": [
    {
     "data": {
      "text/plain": [
       "True"
      ]
     },
     "execution_count": 44,
     "metadata": {},
     "output_type": "execute_result"
    }
   ],
   "source": [
    "# model.clear_messages()"
   ]
  },
  {
   "cell_type": "code",
   "execution_count": 35,
   "id": "365d3732",
   "metadata": {},
   "outputs": [],
   "source": [
    "topic = \"The Emergency in India (1975-1977)\"\n",
    "number_of_subtopics = 5\n"
   ]
  },
  {
   "cell_type": "code",
   "execution_count": null,
   "id": "775d76e0",
   "metadata": {},
   "outputs": [],
   "source": [
    "subtopics_template = PromptTemplate.from_template(\n",
    "    \"\"\"Generate a list of {number_of_subtopics} subheadings for a highschool essay on {topic}.\n",
    "    Order the subheadings such that they have a logical sequence.\n",
    "    Each subheading should have a one-line discription.\n",
    "    Provide output in json format as follows:\n",
    "\n",
    "    {{<heading1>:<description1>,\n",
    "    <heading2>:<description2>,...}}\"\"\"\n",
    ")"
   ]
  },
  {
   "cell_type": "code",
   "execution_count": null,
   "id": "dc351d0a",
   "metadata": {},
   "outputs": [
    {
     "data": {
      "text/plain": [
       "'Generate a list of 5 subheadings for a highschool essay on The Emergency in India (1975-1977).\\n    Order the subheadings such that they have a logical sequence.\\n    Each subheading should have a one-line discription.\\n    Provide output in json format as follows:\\n\\n    {<heading1>:<description1>,\\n    <heading2>:<description2>,...}'"
      ]
     },
     "execution_count": 46,
     "metadata": {},
     "output_type": "execute_result"
    }
   ],
   "source": [
    "subtopics_prompt = subtopics_template.format(topic=topic, number_of_subtopics=number_of_subtopics)\n",
    "subtopics_prompt"
   ]
  },
  {
   "cell_type": "code",
   "execution_count": 47,
   "id": "633d4f55",
   "metadata": {},
   "outputs": [
    {
     "data": {
      "text/plain": [
       "{'Causes_of_the_emergency': 'Analyze the historical events that led to the declaration of emergency by Prime Minister Indira Gandhi in 1975.',\n",
       " 'Effects_on_indian_politics': \"Explain how the Emergency affected India's political landscape and its impact on the country's democratic institutions.\",\n",
       " 'Censorship_and_media_control': 'Discuss the measures taken by the government to control media coverage during the Emergency period, including censorship and suppression of opposition voices.',\n",
       " 'Dissolution_of_constituent_assemblies': 'Describe the dissolution of the constituent assemblies at the Centre and the States by the President on June 25, 1975, marking a significant turning point in the Emergency',\n",
       " 'Legacy_of_the_emergency_and_reforms': \"Assess the lasting impact of the Emergency period on India's politics, economy, and society, including the subsequent reforms introduced by Prime Minister Rajiv Gandhi.\"}"
      ]
     },
     "execution_count": 47,
     "metadata": {},
     "output_type": "execute_result"
    }
   ],
   "source": [
    "topics = model.local_generate(subtopics_prompt, format='json')\n",
    "topics = json.loads(topics)\n",
    "topics"
   ]
  },
  {
   "cell_type": "code",
   "execution_count": 48,
   "id": "6d2e8c32",
   "metadata": {},
   "outputs": [
    {
     "name": "stdout",
     "output_type": "stream",
     "text": [
      "Causes_of_the_emergency\n",
      "Analyze the historical events that led to the declaration of emergency by Prime Minister Indira Gandhi in 1975.\n",
      "Effects_on_indian_politics\n",
      "Explain how the Emergency affected India's political landscape and its impact on the country's democratic institutions.\n",
      "Censorship_and_media_control\n",
      "Discuss the measures taken by the government to control media coverage during the Emergency period, including censorship and suppression of opposition voices.\n",
      "Dissolution_of_constituent_assemblies\n",
      "Describe the dissolution of the constituent assemblies at the Centre and the States by the President on June 25, 1975, marking a significant turning point in the Emergency\n",
      "Legacy_of_the_emergency_and_reforms\n",
      "Assess the lasting impact of the Emergency period on India's politics, economy, and society, including the subsequent reforms introduced by Prime Minister Rajiv Gandhi.\n"
     ]
    }
   ],
   "source": [
    "for k,v in topics.items():\n",
    "    print(k)\n",
    "    print(v)"
   ]
  },
  {
   "cell_type": "code",
   "execution_count": 50,
   "id": "37df1622",
   "metadata": {},
   "outputs": [],
   "source": [
    "def generate_subtopics(topic: str, number_of_subtopics: int, model: LLMModel) -> dict:\n",
    "    subtopics_template = PromptTemplate.from_template(\n",
    "    \"\"\"Generate a list of {number_of_subtopics} subheadings for a highschool essay on {topic}.\n",
    "    Order the subheadings such that they have a logical sequence.\n",
    "    Each subheading should have a one-line discription.\n",
    "    Provide output in json format as follows:\n",
    "\n",
    "    {{<heading1>:<description1>,\n",
    "    <heading2>:<description2>,...}}\"\"\"\n",
    "    )\n",
    "    \n",
    "    subtopics_prompt = subtopics_template.format(topic=topic, number_of_subtopics=number_of_subtopics)\n",
    "\n",
    "    topics = model.local_generate(subtopics_prompt, format='json')\n",
    "    topics = json.loads(topics)\n",
    "    return topics"
   ]
  },
  {
   "cell_type": "code",
   "execution_count": 51,
   "id": "1cbcff42",
   "metadata": {},
   "outputs": [
    {
     "data": {
      "text/plain": [
       "{'Early Beginnings': 'Discuss the origins of the internet, from its development in the 1960s by the United States Department of Defense to its first functional networks.',\n",
       " 'ARPANET and Network Expansion': 'Explain how ARPANET, the first operational packet switching network, expanded into a global network through various government and private initiatives.',\n",
       " 'TCP/IP and the Internet Protocol': 'Describe the development of TCP/IP (Transmission Control Protocol/Internet Protocol), which became the standard communication protocol for the internet.',\n",
       " 'World Wide Web and HTML': 'Introduce the World Wide Web and Hypertext Markup Language (HTML), technologies invented by Tim Berners-Lee that enabled web browsing and online content sharing.',\n",
       " 'Internet Governance and Regulation': 'Analyze the evolution of internet governance, including the establishment of organizations such as ICANN (Internet Corporation for Assigned Names and Numbers) and efforts to regulate online content.',\n",
       " 'Impact and Future of the Internet': \"Assess the internet's profound impact on society, culture, and economy, and discuss potential future developments and challenges in this rapidly evolving technology.\"}"
      ]
     },
     "execution_count": 51,
     "metadata": {},
     "output_type": "execute_result"
    }
   ],
   "source": [
    "generate_subtopics(\"History of the Internet\", 6, model)"
   ]
  },
  {
   "cell_type": "code",
   "execution_count": 52,
   "id": "69d35529",
   "metadata": {},
   "outputs": [
    {
     "data": {
      "text/plain": [
       "{'Introduction to Agentic AI': 'Introduce the concept of agentic AI, which refers to artificial intelligence that can make decisions and act independently.',\n",
       " 'Early Foundations: Robotics and Simulation': 'Discuss the early foundations of agentic AI, including robotics and simulation research that laid the groundwork for more advanced systems.',\n",
       " 'Machine Learning and Reinforcement Learning': 'Explain how machine learning and reinforcement learning techniques have been used to create agentic AI systems that can learn from experience and make decisions.',\n",
       " 'Development of AlphaGo: A Key Breakthrough': 'Describe the development of AlphaGo, a computer program that defeated a human world champion in Go, marking a significant milestone in agentic AI research.',\n",
       " 'Modern Agentic AI: Applications and Use Cases': 'Discuss various applications and use cases of modern agentic AI, including autonomous vehicles, drones, and smart home systems.',\n",
       " 'Value Alignment and Ethics': 'Analyze the importance of value alignment and ethics in agentic AI development, including the need for AI systems to align with human values and avoid causing harm.',\n",
       " 'Explainability and Transparency: Challenges in Agentic AI': 'Discuss the challenges of explainability and transparency in agentic AI, including the difficulty of understanding how AI systems make decisions and predict their behavior.',\n",
       " 'Advances in Natural Language Processing (NLP)': 'Introduce advances in NLP that have enabled agentic AI systems to understand and interact with human language more effectively.',\n",
       " 'Current Research Trends: Transfer Learning and Multitask Learning': 'Discuss current research trends in agentic AI, including the use of transfer learning and multitask learning techniques to improve system performance.',\n",
       " 'Future Directions: Human-AI Collaboration and Societal Impact': 'Assess the potential future directions for agentic AI, including human-AI collaboration and the societal impact of these systems.'}"
      ]
     },
     "execution_count": 52,
     "metadata": {},
     "output_type": "execute_result"
    }
   ],
   "source": [
    "generate_subtopics(\"Evolution of Agentic AI\", 10, model)"
   ]
  },
  {
   "cell_type": "code",
   "execution_count": 46,
   "id": "eb7e38ed",
   "metadata": {},
   "outputs": [],
   "source": [
    "def subtopic_chain() -> LLMChain:\n",
    "    subtopics_template = PromptTemplate.from_template(\n",
    "        \"\"\"Generate a list of {number_of_subtopics} subheadings for a highschool essay on {topic}.\n",
    "        Order the subheadings such that they have a logical sequence.\n",
    "        Each subheading should be accompanied with a detailed discription on what the contents should be about.\n",
    "        Provide output in json format as follows:\n",
    "\n",
    "        {{'<heading1>':'<description1>',\n",
    "        '<heading2>':'<description2>',...}}\n",
    "        \n",
    "        Only return the json object without any additional text.\"\"\"\n",
    "    )\n",
    "    \n",
    "    model = OllamaLLM(model=\"llama3.2:latest\", run_local=True, format='json')\n",
    "\n",
    "    return LLMChain(llm=model, prompt=subtopics_template)"
   ]
  },
  {
   "cell_type": "code",
   "execution_count": 52,
   "id": "ea7a5735",
   "metadata": {},
   "outputs": [
    {
     "data": {
      "text/plain": [
       "{'Early Beginnings of the Internet': \"This section will explore the origins and early development of the internet, including key events such as ARPANET's creation in 1969 and the Network Control Protocol (NCP) that enabled communication between different networks.\",\n",
       " 'The Dawn of the World Wide Web': 'This subsection will discuss how Tim Berners-Lee invented the world wide web in 1989, and how it revolutionized the way people access and share information online.',\n",
       " 'Internet Expansion and Growth': 'This section will cover the rapid expansion and growth of the internet in the 1990s, including the development of dial-up connections, the rise of email, and the emergence of online communities.',\n",
       " \"The Internet's Impact on Society\": 'This subsection will examine how the internet has transformed the way people communicate, access information, and conduct business, as well as its impact on education, healthcare, and other areas of society.',\n",
       " 'Security Concerns and Cybercrime': 'This section will discuss the growing concerns over security and cybercrime, including hacking, identity theft, and online fraud, and how governments and organizations have responded to these issues.',\n",
       " 'The Modern Internet: Challenges and Future Directions': 'This final subsection will look at the current state of the internet, including emerging technologies like 5G and blockchain, as well as challenges such as regulating online content and mitigating the spread of misinformation.'}"
      ]
     },
     "execution_count": 52,
     "metadata": {},
     "output_type": "execute_result"
    }
   ],
   "source": [
    "chain = subtopic_chain()\n",
    "subtopics = chain.run(topic=\"History of the Internet\", number_of_subtopics=6)\n",
    "subtopics = json.loads(subtopics)\n",
    "subtopics"
   ]
  },
  {
   "cell_type": "code",
   "execution_count": 59,
   "id": "8ffe2b2e",
   "metadata": {},
   "outputs": [],
   "source": [
    "def search_query_chain() -> LLMChain:\n",
    "    search_query_template = PromptTemplate.from_template(\n",
    "        \"\"\"Generate a search query for Duckduckgo on the topic: {search_details}.\n",
    "        The query should be concise and relevant to the topic.\n",
    "        Return only the search query without any additional text.\"\"\"\n",
    "    )\n",
    "    \n",
    "    model = OllamaLLM(model=\"llama3.2:latest\", run_local=True)\n",
    "\n",
    "    return LLMChain(llm=model, prompt=search_query_template)"
   ]
  },
  {
   "cell_type": "code",
   "execution_count": 57,
   "id": "cf973218",
   "metadata": {},
   "outputs": [],
   "source": [
    "def get_search_queries(subtopics: dict, search_query_chain: LLMChain) -> dict:\n",
    "    search_queries = {}\n",
    "    for subtopic, desc in subtopics.items():\n",
    "        search_query = search_query_chain.run(search_details=desc)\n",
    "        search_queries[subtopic] = search_query\n",
    "    return search_queries"
   ]
  },
  {
   "cell_type": "code",
   "execution_count": 60,
   "id": "cbd2bc73",
   "metadata": {},
   "outputs": [
    {
     "data": {
      "text/plain": [
       "{'Early Beginnings of the Internet': '\"ARPANET creation and Network Control Protocol early development\"',\n",
       " 'The Dawn of the World Wide Web': '\"Tim Berners-Lee invention of the World Wide Web\"',\n",
       " 'Internet Expansion and Growth': '\"Internet 1990s expansion and growth\"',\n",
       " \"The Internet's Impact on Society\": '\"Internet\\'s impact on communication, information, business, education, healthcare, and society\"',\n",
       " 'Security Concerns and Cybercrime': '\"security measures against hacking and cybercrime\"',\n",
       " 'The Modern Internet: Challenges and Future Directions': '\"internet trends 2023 regulation blockchain misinformation\"'}"
      ]
     },
     "execution_count": 60,
     "metadata": {},
     "output_type": "execute_result"
    }
   ],
   "source": [
    "search_query_chain = search_query_chain()\n",
    "search_queries = get_search_queries(subtopics, search_query_chain)\n",
    "search_queries"
   ]
  },
  {
   "cell_type": "code",
   "execution_count": null,
   "id": "2d0f1b4f",
   "metadata": {},
   "outputs": [],
   "source": [
    "# def information_chain() -> LLMChain:\n",
    "#     information_template = PromptTemplate.from_template(\n",
    "#         \"\"\"Generate details for the\"\"\"\n",
    "#     )\n",
    "    \n",
    "#     model = OllamaLLM(model=\"llama3.2:latest\", run_local=True)\n",
    "\n",
    "#     return LLMChain(llm=model, prompt=information_template)"
   ]
  },
  {
   "cell_type": "code",
   "execution_count": null,
   "id": "937941c7",
   "metadata": {},
   "outputs": [],
   "source": [
    "# results = DDGS().text(\"the emergency\")"
   ]
  },
  {
   "cell_type": "code",
   "execution_count": null,
   "id": "50087a19",
   "metadata": {},
   "outputs": [],
   "source": [
    "# import requests\n",
    "# from bs4 import BeautifulSoup"
   ]
  },
  {
   "cell_type": "code",
   "execution_count": null,
   "id": "35f755a7",
   "metadata": {},
   "outputs": [],
   "source": [
    "# query = \"what is the best search engine\"\n",
    "# url = \"https://www.duckduckgo.com/?t=h_&q=\" + query.replace(\" \", \"+\") +\"&t=h_&ia=web\"\n",
    "# response = requests.get(url)\n",
    "# response.raise_for_status()\n",
    "# soup = BeautifulSoup(response.text, 'html.parser')"
   ]
  },
  {
   "cell_type": "code",
   "execution_count": null,
   "id": "b37a1948",
   "metadata": {},
   "outputs": [
    {
     "data": {
      "text/plain": [
       "b'<!DOCTYPE html><html lang=\"en-US\" class=\"no-js has-zcm  no-theme is-link-style-exp is-link-order-exp is-link-breadcrumb-exp is-related-search-exp is-vertical-tabs-exp  \"><head><meta name=\"description\" content=\"DuckDuckGo. Privacy, Simplified.\"><meta http-equiv=\"content-type\" content=\"text/html; charset=utf-8\"><title>what is the best search engine at DuckDuckGo</title><meta name=\"apple-itunes-app\" content=\"app-id=663592361, app-argument=https://duckduckgo.com/?t=h_&q=what+is+the+best+search+engine&t=h_&ia=web&smartbanner=1\"><link rel=\"stylesheet\" href=\"/dist/s.f7c43807461107926ad2.css\" type=\"text/css\"><link rel=\"stylesheet\" href=\"/dist/r.afc03c5e103c89381710.css\" type=\"text/css\"><link rel=\"stylesheet\" href=\"/dist/wpl.main.40a6dca6d087eb867eed.css\" type=\"text/css\" data-handle-css-custom-properties=\"true\"><link rel=\"stylesheet\" href=\"/dist/wpl.vendors.15a9724ad11a243a515a.css\" type=\"text/css\" data-handle-css-custom-properties=\"true\"><meta name=\"robots\" content=\"noindex,nofollow\"><meta name=\"referrer\" content=\"origin\"><meta name=\"apple-mobile-web-app-title\" content=\"what is the best search engine\"><link rel=\"preconnect\" href=\"https://links.duckduckgo.com\"><link rel=\"preload\" href=\"/font/ProximaNova-Reg-webfont.woff2\" as=\"font\" type=\"font/woff2\" crossorigin=\"anonymous\" /><link rel=\"preload\" href=\"/font/ProximaNova-Sbold-webfont.woff2\" as=\"font\" type=\"font/woff2\" crossorigin=\"anonymous\" /><link rel=\"shortcut icon\" href=\"/favicon.ico\" type=\"image/x-icon\" /><link id=\"icon60\" rel=\"apple-touch-icon\" href=\"/assets/icons/meta/DDG-iOS-icon_60x60.png?v=2\"/><link id=\"icon76\" rel=\"apple-touch-icon\" sizes=\"76x76\" href=\"/assets/icons/meta/DDG-iOS-icon_76x76.png?v=2\"/><link id=\"icon120\" rel=\"apple-touch-icon\" sizes=\"120x120\" href=\"/assets/icons/meta/DDG-iOS-icon_120x120.png?v=2\"/><link id=\"icon152\" rel=\"apple-touch-icon\" sizes=\"152x152\" href=\"/assets/icons/meta/DDG-iOS-icon_152x152.png?v=2\"/><link rel=\"image_src\" href=\"/assets/icons/meta/DDG-icon_256x256.png\"/><script type=\"text/javascript\">var dc_enabled=1,dc_iu=false,dc_pp=false,baseLinkUrl=\"links.duckduckgo.com\",baseLinkEnvName=\"prod\",testTrafficType=0,rpl=\"1\",fq=0,fd=1,it=0,iqa=0,iqbi=0,iqm=0,iqs=0,iqp=0,iqq=0,qw=6,dl=\"en\",ct=\"IN\",iqd=0,r1hc=0,r1c=0,r2c,r3c=0,rq=\"what%20is%20the%20best%20search%20engine\",rqd=\"what is the best search engine\",rfq=0,rt=\"\",ra=\"h_\",rv=\"\",rad=\"\",rds=30,rs=0,spice_version=\"2000\",spice_paths=\"{}\",locale=\"en_US\",settings_url_params={},rl=\"us-en\",shfl=0,shrl=\"us-en\",rlo=0,df=\"\",ds=\"\",sfq=\"\",iar=\"\",vqd=\"4-307099922564296476067130145083263478754\",safe_ddg=0,show_covid=0,perf_id=\"b2f08d080afdf5d4\",parent_perf_id=\"5999e706da0a7c84\",ti,tig,y,y1,didNotLoadScripts=[],__DDG_BE_VERSION__=\"serp_20250613_094749_ET\",__DDG_FE_CHAT_HASH__=\"cafd73f97f51c983eb30\";function handleScriptError(el) { if (el && el.getAttribute) { window.didNotLoadScripts.push(el.getAttribute(\\'src\\')); }}</script><meta name=\"viewport\" content=\"width=device-width, initial-scale=1\" /><meta name=\"HandheldFriendly\" content=\"true\" /><meta name=\"apple-mobile-web-app-capable\" content=\"no\" /><script>var backendExperimentAssignments = {\"3adexp\":{\"active\":false,\"assignedVariant\":null},\"aaspuexp\":{\"active\":false,\"assignedVariant\":null},\"aboutmapsexp\":{\"active\":true,\"assignedVariant\":\"b\"},\"aiheaderexp\":{\"active\":true,\"assignedVariant\":\"b\"},\"bccaexp\":{\"active\":false,\"assignedVariant\":null},\"biaexp\":{\"active\":true,\"assignedVariant\":\"b\"},\"binexp\":{\"active\":false,\"assignedVariant\":null},\"btaaexp\":{\"active\":false,\"assignedVariant\":null},\"btmcovexp\":{\"active\":false,\"assignedVariant\":null},\"daspuexp\":{\"active\":true,\"assignedVariant\":1},\"defaultfontexpbe\":{\"active\":false,\"assignedVariant\":null},\"direxp\":{\"active\":true,\"assignedVariant\":\"b\"},\"eclsexp\":{\"active\":true,\"assignedVariant\":\"b\"},\"headexp\":{\"active\":false,\"assignedVariant\":null},\"litexp\":{\"active\":true,\"assignedVariant\":\"c\"},\"mcnavexp\":{\"active\":false,\"assignedVariant\":null},\"mmadsexp\":{\"active\":false,\"assignedVariant\":null},\"mobileshoppingfiltersexp\":{\"active\":false,\"assignedVariant\":null},\"msvrtexp\":{\"active\":true,\"assignedVariant\":\"b\"},\"newsexp\":{\"active\":true,\"assignedVariant\":\"b\"},\"p2adsexp\":{\"active\":false,\"assignedVariant\":null},\"pa_card_size_experiment_mobile\":{\"active\":false,\"assignedVariant\":null},\"plczjpexp\":{\"active\":false,\"assignedVariant\":null},\"puloverlayexp\":{\"active\":false,\"assignedVariant\":null},\"qfcls\":{\"active\":false,\"assignedVariant\":null},\"recipesexp\":{\"active\":true,\"assignedVariant\":\"b\"},\"related\":{\"active\":false,\"assignedVariant\":null},\"related_click\":{\"active\":false,\"assignedVariant\":null},\"related_done\":{\"active\":false,\"assignedVariant\":null},\"related_requery\":{\"active\":false,\"assignedVariant\":null},\"rspexp2\":{\"active\":false,\"assignedVariant\":null},\"shoppingexp\":{\"active\":true,\"assignedVariant\":\"b\"},\"svpadexp\":{\"active\":false,\"assignedVariant\":null},\"svpamexp\":{\"active\":false,\"assignedVariant\":null},\"taborderingexp\":{\"active\":true,\"assignedVariant\":\"c\"},\"text_extensions_exp\":{\"active\":false,\"assignedVariant\":null},\"tjsexp\":{\"active\":false,\"assignedVariant\":null},\"tqcls\":{\"active\":false,\"assignedVariant\":null},\"useclsexp\":{\"active\":false,\"assignedVariant\":null},\"uspoleposexp\":{\"active\":false,\"assignedVariant\":null},\"videxp\":{\"active\":false,\"assignedVariant\":null},\"weatherexp\":{\"active\":true,\"assignedVariant\":\"b\"},\"you_news_verticalexp\":{\"active\":false,\"assignedVariant\":null}}, backendRandomNumbers = {\"ads\":0.0346401471043087};</script><script>var _bootstrapBackendData={\"_region\":\"\",\"bingMarket\":\"en-US\",\"hasExtension\":false,\"hostRegion\":\"inc\",\"isDesktop\":true,\"isMobile\":false,\"showAppleAppStoreAds\":false,\"showAutoAds\":false,\"showCreditCardAds\":false,\"showMultimediaAds\":false,\"showProductAds\":false,\"showTourAds\":false};</script><script>window.__preloadData__={\"apple-ads-ia\":{\"legacy\":[],\"modern\":[]},\"auto-ads-ia\":{\"legacy\":[\"/dist/wpl.auto-ads-ia.9e96fa739a1778e948cc.js\",\"/dist/wpl.auto-ads-ia.6dcb1936c9dbbd185e30.css\"],\"modern\":[\"/dist/wpm.auto-ads-ia.bf92eb1b7ba7f069941e.js\",\"/dist/wpm.auto-ads-ia.6dcb1936c9dbbd185e30.css\"]},\"computation-ia\":{\"legacy\":[\"/dist/wpl.computation-ia.6375309e54897846093d.js\"],\"modern\":[\"/dist/wpm.computation-ia.1738d157ec2b26969446.js\"]},\"conversions-ia\":{\"legacy\":[\"/dist/wpl.conversions-ia.995245c21d0c8805bb84.js\",\"/dist/wpl.conversions-ia.936e6b3fb1dcdb33598e.css\"],\"modern\":[\"/dist/wpm.conversions-ia.a33e1692b743fe77498c.js\",\"/dist/wpm.conversions-ia.936e6b3fb1dcdb33598e.css\"]},\"credit-cards-ia\":{\"legacy\":[\"/dist/wpl.credit-cards-ia.fef9f53c48916ec44f9d.js\",\"/dist/wpl.credit-cards-ia.0d9cefed5eb19dbd4fbe.css\"],\"modern\":[\"/dist/wpm.credit-cards-ia.4cb09c247b49e2e736cb.js\",\"/dist/wpm.credit-cards-ia.0d9cefed5eb19dbd4fbe.css\"]},\"currency-ia\":{\"legacy\":[\"/dist/wpl.currency-ia.516dd08fc2fd26313717.js\",\"/dist/wpl.currency-ia.00308e5739c9d8a9bdb7.css\"],\"modern\":[\"/dist/wpm.currency-ia.e8e4252cacd271e6a8cb.js\",\"/dist/wpm.currency-ia.00308e5739c9d8a9bdb7.css\"]},\"directions-ia\":{\"legacy\":[\"/dist/wpl.directions-ia.841491f0a7a78803881f.js\",\"/dist/wpl.directions-ia.ee2dbf4cfd0598843463.css\"],\"modern\":[\"/dist/wpm.directions-ia.289a9f2547a1e8f41c25.js\",\"/dist/wpm.directions-ia.ee2dbf4cfd0598843463.css\"]},\"duckassist-ia\":{\"legacy\":[\"/dist/wpl.duckassist-ia.8bbe225693d311085c4a.js\",\"/dist/wpl.duckassist-ia.c295e3f07227d4080ae1.css\"],\"modern\":[\"/dist/wpm.duckassist-ia.04c89752b7f945a54dc0.js\",\"/dist/wpm.duckassist-ia.c295e3f07227d4080ae1.css\"]},\"duckduckgo-help-ia\":{\"legacy\":[\"/dist/wpl.duckduckgo-help-ia.11a5c25b2ae4fd219486.js\",\"/dist/wpl.duckduckgo-help-ia.12379574be936121d18d.css\"],\"modern\":[\"/dist/wpm.duckduckgo-help-ia.fa4443ad947cec9755e6.js\",\"/dist/wpm.duckduckgo-help-ia.12379574be936121d18d.css\"]},\"elections-ia\":{\"legacy\":[\"/dist/wpl.elections-ia.68e33549f32a89dcafd3.js\",\"/dist/wpl.elections-ia.626c99a239a3d9a615be.css\"],\"modern\":[\"/dist/wpm.elections-ia.87a62e60dbaf675b942c.js\",\"/dist/wpm.elections-ia.626c99a239a3d9a615be.css\"]},\"expanded-maps-vertical\":{\"legacy\":[\"/dist/wpl.expanded-maps-vertical.94596831e28a7d60fdd0.js\",\"/dist/wpl.expanded-maps-vertical.70693a2210727ca02bb7.css\"],\"modern\":[\"/dist/wpm.expanded-maps-vertical.b2ff2ca06127808de6eb.js\",\"/dist/wpm.expanded-maps-vertical.70693a2210727ca02bb7.css\"]},\"forecast-ia\":{\"legacy\":[\"/dist/wpl.forecast-ia.9b508b4cda4992e2bd3f.js\",\"/dist/wpl.forecast-ia.d2e39a8e35393f156674.css\"],\"modern\":[\"/dist/wpm.forecast-ia.62e4b8e6254710bc6949.js\",\"/dist/wpm.forecast-ia.d2e39a8e35393f156674.css\"]},\"holiday-ia\":{\"legacy\":[\"/dist/wpl.holiday-ia.5bed748c907de172bb28.js\"],\"modern\":[\"/dist/wpm.holiday-ia.c08c88e39ceecf1702eb.js\"]},\"images-ia\":{\"legacy\":[\"/dist/wpl.images-ia.d00e28f51568a057cc46.js\",\"/dist/wpl.images-ia.19286765cf68a59cc833.css\"],\"modern\":[\"/dist/wpm.images-ia.f63b8891b15cba9c2df5.js\",\"/dist/wpm.images-ia.19286765cf68a59cc833.css\"]},\"maps-maps-ia\":{\"legacy\":[\"/dist/wpl.maps-maps-ia.f4ff89c3bd4db3e9dcae.js\",\"/dist/wpl.maps-maps-ia.ea48540fe7263136ab43.css\"],\"modern\":[\"/dist/wpm.maps-maps-ia.cdfbf57d03a538266cd3.js\",\"/dist/wpm.maps-maps-ia.ea48540fe7263136ab43.css\"]},\"maps-places-ia\":{\"legacy\":[\"/dist/wpl.maps-places-ia.33057053a2e7fdb64b72.js\",\"/dist/wpl.maps-places-ia.2ee693f3ad7044f72d2c.css\"],\"modern\":[\"/dist/wpm.maps-places-ia.a04b1221f4e8d31004cf.js\",\"/dist/wpm.maps-places-ia.2ee693f3ad7044f72d2c.css\"]},\"multimedia-ad-ia\":{\"legacy\":[\"/dist/wpl.multimedia-ad-ia.26c26ec4e7eca722a5e3.js\",\"/dist/wpl.multimedia-ad-ia.e5d2dabb030fbca6e2a7.css\"],\"modern\":[\"/dist/wpm.multimedia-ad-ia.6d0664f63a94955ac6a4.js\",\"/dist/wpm.multimedia-ad-ia.e5d2dabb030fbca6e2a7.css\"]},\"news-ia\":{\"legacy\":[\"/dist/wpl.news-ia.73fc12e2fb7147589d65.js\",\"/dist/wpl.news-ia.43032040011cdbe8b9b7.css\"],\"modern\":[\"/dist/wpm.news-ia.5a30cb7afb236f940a4d.js\",\"/dist/wpm.news-ia.43032040011cdbe8b9b7.css\"]},\"olympics-ia\":{\"legacy\":[],\"modern\":[]},\"public-holidays-ia\":{\"legacy\":[\"/dist/wpl.public-holidays-ia.e10391187f1ece4fc2b7.js\"],\"modern\":[\"/dist/wpm.public-holidays-ia.de862b50a07d0a85853a.js\"]},\"recipes-ia\":{\"legacy\":[\"/dist/wpl.recipes-ia.e67dec3b7905b071da2f.js\",\"/dist/wpl.recipes-ia.0322cf9ce7eda9903e0a.css\"],\"modern\":[\"/dist/wpm.recipes-ia.4a826b107e6badef0ba5.js\",\"/dist/wpm.recipes-ia.0322cf9ce7eda9903e0a.css\"]},\"sports-ia\":{\"legacy\":[\"/dist/wpl.sports-ia.49d65a84d1807d7f4177.js\",\"/dist/wpl.sports-ia.1fb23496a701a688a5d8.css\"],\"modern\":[\"/dist/wpm.sports-ia.886175ae79b5cf186581.js\",\"/dist/wpm.sports-ia.1fb23496a701a688a5d8.css\"]},\"titles-ia\":{\"legacy\":[\"/dist/wpl.titles-ia.e496bb051a9133d4ca8b.js\",\"/dist/wpl.titles-ia.4cc0e9eb75f98351e577.css\"],\"modern\":[\"/dist/wpm.titles-ia.1ae4888e0e09b6495e0d.js\",\"/dist/wpm.titles-ia.4cc0e9eb75f98351e577.css\"]},\"tour-ads-ia\":{\"legacy\":[],\"modern\":[]},\"videos-ia\":{\"legacy\":[\"/dist/wpl.videos-ia.e020a574182a3601c0d8.js\",\"/dist/wpl.videos-ia.34b7582da5d12397d383.css\"],\"modern\":[\"/dist/wpm.videos-ia.1031d9e683b5423d9b79.js\",\"/dist/wpm.videos-ia.34b7582da5d12397d383.css\"]},\"where-to-watch-ia\":{\"legacy\":[\"/dist/wpl.where-to-watch-ia.ec87940f5af98a29d233.js\",\"/dist/wpl.where-to-watch-ia.1fccec8379670fd035d5.css\"],\"modern\":[\"/dist/wpm.where-to-watch-ia.cd5a3f22f3ef92b3479f.js\",\"/dist/wpm.where-to-watch-ia.1fccec8379670fd035d5.css\"]}};</script><script type=\"module\">window.supportsModule=true;</script><script nomodule>if(window.supportsModule!==true){window.supportsModule=false;}</script><script>window.__indexPayload__={instantAnswers:[]};</script><script src=\"/dist/b.23d6cb24dc17e3289695.js\" onerror=\"handleScriptError(this)\"></script><script> function DeepPreloaderV2(scriptId, linkId, timeout, headUrl) { this.scriptId = scriptId; this.linkId = linkId; this.headUrl = headUrl; this.status = \\'pending\\'; this.afterTimeoutStatus = \\'pending\\'; this.headStatus = \\'pending\\'; this.headResponse = null; this.headDuration = null; this.startFetchTime = Date.now(); this.endFetchTime = null; this._onLoad = null; this._onError = null; this._onTimeout = null; this._onHeadComplete = null; if (timeout > 0) { this._timeoutId = setTimeout( function () { this.status = \\'timeout\\'; if (this._onTimeout) { this._onTimeout(); } this._onLoad = null; this._onError = null; this._onTimeout = null; }.bind(this), timeout ); } if (this.headUrl) { var timeHeadStart = Date.now(); DeepPreloaderV2.head(this.headUrl, function(response) { var timeHeadEnd = Date.now(); this.headStatus = \\'complete\\'; this.headDuration = timeHeadEnd - timeHeadStart; this.headResponse = response; if (this._onHeadComplete) { this._onHeadComplete(response); } }.bind(this)); } } DeepPreloaderV2.execTriggerCache = function() { var instantAnswerPayloads = window.__triggerCacheData__ || []; var preloadData = window.__preloadData__; var supportsModule = window.supportsModule; if (!window.__preventExecTriggerCache__ && Array.isArray(instantAnswerPayloads)) { instantAnswerPayloads.forEach(function (instantAnswerPayload) { if (!instantAnswerPayload) return; if (Array.isArray(instantAnswerPayload.resources)) { instantAnswerPayload.resources.forEach(function (resource) { if (!resource) return; switch (resource.type) { case \\'webpack-chunk\\': { if (preloadData && preloadData[resource.name] && document.head) { var assets = preloadData[resource.name][supportsModule ? \\'modern\\' : \\'legacy\\'] || []; assets.forEach(function (asset) { if (!document.head.querySelector(\\'[href=\"\\' + asset + \\'\"]\\')) { var link = document.createElement(\\'link\\'); link.rel = \\'preload\\'; link.href = asset; link.as = asset.endsWith(\\'.css\\') ? \\'style\\' : \\'script\\'; document.head.appendChild(link); } }); } break; } case \\'json\\': { if (resource.url && document.head && !document.head.querySelector(\\'[href=\"\\' + resource.url + \\'\"]\\')) { var link = document.createElement(\\'link\\'); link.rel = \\'preload\\'; link.href = resource.url; link.as = \\'fetch\\'; link.crossOrigin = \\'anonymous\\'; document.head.appendChild(link); } break; } } }); } }); } }; DeepPreloaderV2.head = function(url, callback) { var xhr = new XMLHttpRequest(); xhr.open(\\'HEAD\\', url, true); xhr.onreadystatechange = function () { if (xhr.readyState === XMLHttpRequest.DONE) { var finalUrl = xhr.responseURL || url; var redirected = finalUrl !== url; callback({ statusCode: xhr.status, redirected: redirected, finalUrl: finalUrl }); } }; xhr.send(); }; DeepPreloaderV2.prototype.addEventListener = function (type, cb) { switch (type) { case \\'load\\': this._onLoad = cb; break; case \\'error\\': this._onError = cb; break; case \\'timeout\\': this._onTimeout = cb; break; case \\'loadAfterTimeout\\': this._onLoadAfterTimeout = cb; break; case \\'errorAfterTimeout\\': this._onErrorAfterTimeout = cb; break; case \\'headComplete\\': this._onHeadComplete = cb; break; } }; DeepPreloaderV2.prototype._cleanup = function () { this._onLoad = null; this._onError = null; this._onTimeout = null; this._onLoadAfterTimeout = null; this._onErrorAfterTimeout = null; var script = document.getElementById(this.scriptId); if (script) { script.onload = null; script.onerror = null; document.head.removeChild(script); script = null; } var link = document.getElementById(this.linkId); if (link) { document.head.removeChild(link); link = null; } }; DeepPreloaderV2.prototype.cancel = function () { this._cleanup(); }; DeepPreloaderV2.prototype.onLoad = function () { clearTimeout(this._timeoutId); this.endFetchTime = Date.now(); var duration = this.endFetchTime - this.startFetchTime; if (this.status === \\'timeout\\') { this.afterTimeoutStatus = \\'success\\'; if (this._onLoadAfterTimeout) { this._onLoadAfterTimeout(duration); } } else { this.status = \\'success\\'; if (this._onLoad) { this._onLoad(duration); } } this._cleanup(); }; DeepPreloaderV2.prototype.onError = function () { clearTimeout(this._timeoutId); this.endFetchTime = Date.now(); var duration = this.endFetchTime - this.startFetchTime; if (this.status === \\'timeout\\') { this.afterTimeoutStatus = \\'error\\'; if (this._onErrorAfterTimeout) { this._onErrorAfterTimeout(duration); } } else { this.status = \\'error\\'; if (this._onError) { this._onError(duration); } } this._cleanup(); }; window.deepPreloader = new DeepPreloaderV2(\\'deep_preload_script\\', \\'deep_preload_link\\', 4750, null); window.deepPreloaderOnLoad = window.deepPreloader.onLoad.bind(window.deepPreloader); window.deepPreloaderOnError = window.deepPreloader.onError.bind(window.deepPreloader);</script><link id=\"deep_preload_link\" rel=\"preload\" as=\"script\" href=\"https://links.duckduckgo.com/d.js?q=what%20is%20the%20best%20search%20engine&l=us-en&s=0&a=h_&dl=en&ct=IN&vqd=4-307099922564296476067130145083263478754&bing_market=en-US&p_ent=&ex=-1&dp=a_EZ90iKlCqe2Vvl7HhYaklWyUEQODr6kyCcWNBVWDsx1j6SfU9HxP8HXNLa4OIdBefWIYGT95xAwuhDcqWbESKElob7NkHSxKGvxd8bbtEC9qZUBDtK34kAeLFsWFW9bqtK_KS5Yf6rUUrR2lOUh6pO1tcj6J8Eo2X14fsLKtI.dcuVffmvJFyDXy3nlu1aMA&perf_id=b2f08d080afdf5d4&parent_perf_id=5999e706da0a7c84&host_region=inc&sp=1&dfrsp=1&wrap=1&aps=0&aboutmapsexp=b&biaexp=b&daspuexp=1&direxp=b&eclsexp=b&litexp=c&msvrtexp=b&newsexp=b&shoppingexp=b&taborderingexp=c&weatherexp=b\"><script async id=\"deep_preload_script\" src=\"https://links.duckduckgo.com/d.js?q=what%20is%20the%20best%20search%20engine&l=us-en&s=0&a=h_&dl=en&ct=IN&vqd=4-307099922564296476067130145083263478754&bing_market=en-US&p_ent=&ex=-1&dp=a_EZ90iKlCqe2Vvl7HhYaklWyUEQODr6kyCcWNBVWDsx1j6SfU9HxP8HXNLa4OIdBefWIYGT95xAwuhDcqWbESKElob7NkHSxKGvxd8bbtEC9qZUBDtK34kAeLFsWFW9bqtK_KS5Yf6rUUrR2lOUh6pO1tcj6J8Eo2X14fsLKtI.dcuVffmvJFyDXy3nlu1aMA&perf_id=b2f08d080afdf5d4&parent_perf_id=5999e706da0a7c84&host_region=inc&sp=1&dfrsp=1&wrap=1&aps=0&aboutmapsexp=b&biaexp=b&daspuexp=1&direxp=b&eclsexp=b&litexp=c&msvrtexp=b&newsexp=b&shoppingexp=b&taborderingexp=c&weatherexp=b\" onload=\"window.deepPreloaderOnLoad()\" onerror=\"window.deepPreloaderOnError()\"></script></head><body class=\"body--serp  \"><input id=\"state_hidden\" name=\"state_hidden\" type=\"text\" size=\"1\"><!-- Ignore this input please --><div id=\"spacing_hidden_wrapper\"><div id=\"spacing_hidden\"></div></div><script type=\"text/javascript\" src=\"/dist/lib/l.32113981e35aa54fc221.js\" onerror=\"handleScriptError(this)\"></script><script type=\"text/javascript\" src=\"/dist/locale/en_US.bc003b9e8e6884ec24fde96b77d40981.js\" onerror=\"handleScriptError(this)\"></script><script type=\"text/javascript\" src=\"/dist/util/u.acd09ee1b46ec035cb11.js\" onerror=\"handleScriptError(this)\"></script><script>!function(e,t,n){!(\"noModule\"in(t=e.createElement(\"script\")))&&\"onbeforeload\"in t&&(n=!1,e.addEventListener(\"beforeload\",function(e){if(e.target===t)n=!0;else if(!e.target.hasAttribute(\"nomodule\")||!n)return;e.preventDefault()},!0),t.type=\"module\",t.src=\".\",e.head.appendChild(t),t.remove())}(document)</script><script src=\"/dist/wpmv.7846e4b89d60fab76a1a.js\" type=\"module\" onerror=\"handleScriptError(this)\"></script><script src=\"/dist/wpm.main.7469a648f909f9a5fdf4.js\" type=\"module\" onerror=\"handleScriptError(this)\"></script><script src=\"/dist/wplv.054ae0eb9bcf466e0776.js\" nomodule defer onerror=\"handleScriptError(this)\"></script><script src=\"/dist/wpl.main.02adb4ef97d92dff0728.js\" nomodule defer onerror=\"handleScriptError(this)\"></script><script type=\"text/javascript\" src=\"/dist/d.fbe8a0f660a1dfcff608.js\" onerror=\"handleScriptError(this)\"></script><div class=\"site-wrapper  js-site-wrapper\"><div class=\"welcome-wrap js-welcome-wrap\"></div><div id=\"header_wrapper\" data-testid=\"header\" class=\"header-wrap js-header-wrap ai-header-exp\"><div id=\"header\" class=\"header  cw\"><div id=\"header-non-nav\" class=\"header__shrink-beyond-min-size\"><div class=\"header__search-wrap\">\\n                    <a id=\"header-logo-wrapper\" tabindex=\"-1\" href=\"/?t=h_\" class=\"header__logo-wrap js-header-logo\" data-testid=\"header-logo\">\\n                        <span class=\"header__logo js-logo-ddg\" data-dynamic-logo=\"\">DuckDuckGo</span>\\n                    </a>\\n                <div class=\"header__content  header__search\"><form data-testid=\"search-form\" id=\"search_form\" class=\"search--adv  search--header js-search-form\" name=\"x\" action=\"/\"><input type=\"text\" name=\"q\" tabindex=\"1\" autocomplete=\"off\" id=\"search_form_input\" class=\"search__input search__input--adv js-search-input\" value=\"what is the best search engine\" role=\"combobox\" aria-controls=\"autocompleteList\" aria-haspopup=\"listbox\"><input id=\"search_form_input_clear\" class=\"search__clear  js-search-clear\" type=\"button\" tabindex=\"3\" aria-label=\"clear\" value=\"X\"/><input id=\"search_button\" class=\"search__button  js-search-button\" type=\"submit\" tabindex=\"2\" value=\"S\" aria-label=\"search\" /><a id=\"search_dropdown\" class=\"search__dropdown\" href=\"javascript:;\" tabindex=\"4\"></a><div id=\"search_elements_hidden\" class=\"search__hidden  js-search-hidden\"></div></form></div></div><div class=\"header--aside js-header-aside\"><div id=\"react-ai-button-slot\"></div></div></div><div id=\"react-duckbar\" data-testid=\"duckbar\"></div></div></div><div id=\"react-browser-update-info\"></div><div id=\"zero_click_wrapper\" class=\"zci-wrap\"><div id=\"react-root-zci\"></div></div><div id=\"vertical_wrapper\" class=\"verticals\"></div><div id=\"web_content_wrapper\" class=\"content-wrap \" data-hide-untill-css-vars-polyfilled=\"true\"><div class=\"serp__top-right  js-serp-top-right\"></div><div class=\"serp__bottom-right  js-serp-bottom-right\"><div class=\"js-feedback-btn-wrap\"></div></div><div data-testid=\"mainline\" class=\"results--main\"><noscript><meta http-equiv=\"refresh\" content=\"0;URL=/html?q=what%20is%20the%20best%20search%20engine\"><link href=\"/css/noscript.css\" rel=\"stylesheet\" type=\"text/css\"><div class=\"msg msg--noscript\"><p class=\"msg-title--noscript\">You are being redirected to the non-JavaScript site.</p>Click <a href=\"/html/?q=what%20is%20the%20best%20search%20engine\">here</a> if it doesn\\'t happen automatically.</div></noscript></div><div id=\"react-layout\"></div></div><div id=\"bottom_spacing2\"> </div></div><script type=\"text/javascript\"></script><script type=\"text/JavaScript\">function nrji() {nrj(\\'/t.js?q=what%20is%20the%20best%20search%20engine&l=us-en&s=0&dl=en&ct=IN&bing_market=en-US&p_ent=&ex=-1&dp=a_EZ90iKlCqe2Vvl7HhYaklWyUEQODr6kyCcWNBVWDsx1j6SfU9HxP8HXNLa4OIdBefWIYGT95xAwuhDcqWbESKElob7NkHSxKGvxd8bbtEC9qZUBDtK34kAeLFsWFW9bqtK_KS5Yf6rUUrR2lOUh6pO1tcj6J8Eo2X14fsLKtI.dcuVffmvJFyDXy3nlu1aMA&perf_id=b2f08d080afdf5d4&parent_perf_id=5999e706da0a7c84&host_region=inc&dfrsp=1&aps=0\\');DDG.deep.initialize(\\'/d.js?q=what%20is%20the%20best%20search%20engine&l=us-en&s=0&a=h_&dl=en&ct=IN&vqd=4-307099922564296476067130145083263478754&bing_market=en-US&p_ent=&ex=-1&dp=a_EZ90iKlCqe2Vvl7HhYaklWyUEQODr6kyCcWNBVWDsx1j6SfU9HxP8HXNLa4OIdBefWIYGT95xAwuhDcqWbESKElob7NkHSxKGvxd8bbtEC9qZUBDtK34kAeLFsWFW9bqtK_KS5Yf6rUUrR2lOUh6pO1tcj6J8Eo2X14fsLKtI.dcuVffmvJFyDXy3nlu1aMA&perf_id=b2f08d080afdf5d4&parent_perf_id=5999e706da0a7c84&host_region=inc&sp=1&dfrsp=1&wrap=1&aps=0\\', false);;};DDG.ready(nrji, 1);</script><script src=\"/dist/g.2c222d8d1bdaea84050f.js\" onerror=\"handleScriptError(this)\"></script><script type=\"text/javascript\">DDG.page = new DDG.Pages.SERP({ showSafeSearch: 0, instantAnswerAds: false, hostRegion: \"inc\" });</script><div id=\"z2\"> </div><div id=\"z\"></div></body></html><script type=\"text/JavaScript\">DDG.index = DDG.index || {}; DDG.index.signalSummary = \"\";</script>'"
      ]
     },
     "execution_count": 20,
     "metadata": {},
     "output_type": "execute_result"
    }
   ],
   "source": [
    "# response.content"
   ]
  },
  {
   "cell_type": "code",
   "execution_count": null,
   "id": "7c48ae5a",
   "metadata": {},
   "outputs": [],
   "source": [
    "# def get_"
   ]
  },
  {
   "cell_type": "code",
   "execution_count": null,
   "id": "abecd48a",
   "metadata": {},
   "outputs": [],
   "source": [
    "# chain for subtopics - chain for search queries - chain for information retrieval from search results - chain for summarization"
   ]
  }
 ],
 "metadata": {
  "kernelspec": {
   "display_name": "llms2",
   "language": "python",
   "name": "python3"
  },
  "language_info": {
   "codemirror_mode": {
    "name": "ipython",
    "version": 3
   },
   "file_extension": ".py",
   "mimetype": "text/x-python",
   "name": "python",
   "nbconvert_exporter": "python",
   "pygments_lexer": "ipython3",
   "version": "3.11.11"
  }
 },
 "nbformat": 4,
 "nbformat_minor": 5
}
